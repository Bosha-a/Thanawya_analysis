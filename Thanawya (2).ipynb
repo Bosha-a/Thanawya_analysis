{
  "cells": [
    {
      "cell_type": "code",
      "execution_count": 644,
      "metadata": {
        "id": "3_7IqpxrRb6c"
      },
      "outputs": [],
      "source": [
        "import pandas as pd\n",
        "import numpy as np\n",
        "import matplotlib.pyplot as plt\n",
        "import seaborn as sns\n",
        "import arabic_reshaper\n",
        "from bidi.algorithm import get_display"
      ]
    },
    {
      "cell_type": "code",
      "execution_count": 645,
      "metadata": {
        "id": "AC3-kFxMTRBE"
      },
      "outputs": [],
      "source": [
        "df = pd.read_csv(\"Thanawya(2).csv\")"
      ]
    },
    {
      "cell_type": "code",
      "execution_count": 646,
      "metadata": {},
      "outputs": [],
      "source": [
        "df.columns = df.columns.str.strip()"
      ]
    },
    {
      "cell_type": "code",
      "execution_count": 647,
      "metadata": {
        "colab": {
          "base_uri": "https://localhost:8080/",
          "height": 300
        },
        "id": "H4xEW71NCKMX",
        "outputId": "21df87e1-8086-4617-9a15-656218196524"
      },
      "outputs": [
        {
          "data": {
            "text/html": [
              "<div>\n",
              "<style scoped>\n",
              "    .dataframe tbody tr th:only-of-type {\n",
              "        vertical-align: middle;\n",
              "    }\n",
              "\n",
              "    .dataframe tbody tr th {\n",
              "        vertical-align: top;\n",
              "    }\n",
              "\n",
              "    .dataframe thead th {\n",
              "        text-align: right;\n",
              "    }\n",
              "</style>\n",
              "<table border=\"1\" class=\"dataframe\">\n",
              "  <thead>\n",
              "    <tr style=\"text-align: right;\">\n",
              "      <th></th>\n",
              "      <th>رقم_الجلوس</th>\n",
              "      <th>مجموع_الدرجات</th>\n",
              "    </tr>\n",
              "  </thead>\n",
              "  <tbody>\n",
              "    <tr>\n",
              "      <th>count</th>\n",
              "      <td>2882</td>\n",
              "      <td>2882</td>\n",
              "    </tr>\n",
              "    <tr>\n",
              "      <th>mean</th>\n",
              "      <td>806990.23351839</td>\n",
              "      <td>315.7017696044414</td>\n",
              "    </tr>\n",
              "    <tr>\n",
              "      <th>std</th>\n",
              "      <td>861.7377855545474</td>\n",
              "      <td>41.16498969508767</td>\n",
              "    </tr>\n",
              "    <tr>\n",
              "      <th>min</th>\n",
              "      <td>805500</td>\n",
              "      <td>32</td>\n",
              "    </tr>\n",
              "    <tr>\n",
              "      <th>25%</th>\n",
              "      <td>806240.25</td>\n",
              "      <td>290</td>\n",
              "    </tr>\n",
              "    <tr>\n",
              "      <th>50%</th>\n",
              "      <td>806994.5</td>\n",
              "      <td>322.5</td>\n",
              "    </tr>\n",
              "    <tr>\n",
              "      <th>75%</th>\n",
              "      <td>807735.75</td>\n",
              "      <td>345.5</td>\n",
              "    </tr>\n",
              "    <tr>\n",
              "      <th>max</th>\n",
              "      <td>808499</td>\n",
              "      <td>396.5</td>\n",
              "    </tr>\n",
              "  </tbody>\n",
              "</table>\n",
              "</div>"
            ],
            "text/plain": [
              "             رقم_الجلوس     مجموع_الدرجات\n",
              "count              2882              2882\n",
              "mean    806990.23351839 315.7017696044414\n",
              "std   861.7377855545474 41.16498969508767\n",
              "min              805500                32\n",
              "25%           806240.25               290\n",
              "50%            806994.5             322.5\n",
              "75%           807735.75             345.5\n",
              "max              808499             396.5"
            ]
          },
          "execution_count": 647,
          "metadata": {},
          "output_type": "execute_result"
        }
      ],
      "source": [
        "df.describe()"
      ]
    },
    {
      "cell_type": "markdown",
      "metadata": {},
      "source": [
        "#### عدد طلاب الثانوية العامة ببورسعيد = 2882\n",
        "#### متوسط درجات الطلاب = 315.7\n",
        "#### 32 اقل درجة حصل عليها الطالب آدم سعيد محمد على سعيد \n",
        "#### الطالب الاول على المحافظة الطالب يوسف ياسر محمد عبدالحميد حمايل 396.5\n",
        "\n"
      ]
    },
    {
      "cell_type": "code",
      "execution_count": 648,
      "metadata": {
        "colab": {
          "base_uri": "https://localhost:8080/"
        },
        "id": "DjRBAF1RBj8e",
        "outputId": "d2a8b41a-9c09-4524-b9c0-103a4413e78e"
      },
      "outputs": [
        {
          "name": "stdout",
          "output_type": "stream",
          "text": [
            "<class 'pandas.core.frame.DataFrame'>\n",
            "RangeIndex: 2882 entries, 0 to 2881\n",
            "Data columns (total 20 columns):\n",
            " #   Column                   Non-Null Count  Dtype  \n",
            "---  ------                   --------------  -----  \n",
            " 0   رقم_الجلوس               2882 non-null   int64  \n",
            " 1   الأسم                    2882 non-null   object \n",
            " 2   المدرسة                  2882 non-null   object \n",
            " 3   الأدارة_التعليمية        2882 non-null   object \n",
            " 4   حالة_الطالب              2882 non-null   object \n",
            " 5   الشعبة                   2882 non-null   object \n",
            " 6   اللغة_العربية            2882 non-null   object \n",
            " 7   اللغة_الأجنبية_الأولى    2882 non-null   object \n",
            " 8   اللغة_الأجنبية_الثانية   2882 non-null   object \n",
            " 9   الرياضيات_البحتة         2882 non-null   object \n",
            " 10  التاريخ                  2882 non-null   object \n",
            " 11  الجغرافيا                2882 non-null   object \n",
            " 12  الفلسفة_والمنطق          2882 non-null   object \n",
            " 13  علم_النفس_والاجتماع      2882 non-null   object \n",
            " 14  الكيمياء                 2882 non-null   object \n",
            " 15  الأحياء                  2882 non-null   object \n",
            " 16  الجيولوجيا_وعلوم_البيئة  2882 non-null   object \n",
            " 17  الرياضيات_التطبيقية      2882 non-null   object \n",
            " 18  الفيزياء                 2882 non-null   object \n",
            " 19  مجموع_الدرجات            2882 non-null   float64\n",
            "dtypes: float64(1), int64(1), object(18)\n",
            "memory usage: 450.4+ KB\n"
          ]
        }
      ],
      "source": [
        "df.info()"
      ]
    },
    {
      "cell_type": "code",
      "execution_count": 649,
      "metadata": {
        "colab": {
          "base_uri": "https://localhost:8080/"
        },
        "id": "WmbiWsp9DNw8",
        "outputId": "abbc41b6-9c6e-4e52-95e4-3d5a9916f0f1"
      },
      "outputs": [
        {
          "data": {
            "text/plain": [
              "Index(['رقم_الجلوس', 'الأسم', 'المدرسة', 'الأدارة_التعليمية', 'حالة_الطالب',\n",
              "       'الشعبة', 'اللغة_العربية', 'اللغة_الأجنبية_الأولى',\n",
              "       'اللغة_الأجنبية_الثانية', 'الرياضيات_البحتة', 'التاريخ', 'الجغرافيا',\n",
              "       'الفلسفة_والمنطق', 'علم_النفس_والاجتماع', 'الكيمياء', 'الأحياء',\n",
              "       'الجيولوجيا_وعلوم_البيئة', 'الرياضيات_التطبيقية', 'الفيزياء',\n",
              "       'مجموع_الدرجات'],\n",
              "      dtype='object')"
            ]
          },
          "execution_count": 649,
          "metadata": {},
          "output_type": "execute_result"
        }
      ],
      "source": [
        "df.columns"
      ]
    },
    {
      "cell_type": "code",
      "execution_count": 650,
      "metadata": {
        "colab": {
          "base_uri": "https://localhost:8080/",
          "height": 209
        },
        "id": "2RECUej3GGwO",
        "outputId": "7284d908-cf94-44f7-822e-16365f7aa770"
      },
      "outputs": [
        {
          "data": {
            "text/plain": [
              "حالة_الطالب\n",
              "ناجح        2811\n",
              "دور ثاني      56\n",
              "راسب          15\n",
              "Name: count, dtype: int64"
            ]
          },
          "execution_count": 650,
          "metadata": {},
          "output_type": "execute_result"
        }
      ],
      "source": [
        "# عدد الطلاب بالحالة \n",
        "df.columns = df.columns.str.strip()\n",
        "\n",
        "new = df[\"حالة_الطالب\"].value_counts()\n",
        "new"
      ]
    },
    {
      "cell_type": "code",
      "execution_count": 651,
      "metadata": {},
      "outputs": [
        {
          "data": {
            "text/plain": [
              "array(['الشهيد احمد سامى الثانويه بنين', 'القناة الثانوية بنين',\n",
              "       '6 اكتوبر الثانوية', 'علم الدين الثانوية بنات',\n",
              "       'شهداء بورسعيد الثانوية المشتركة',\n",
              "       'المهندس على سليمان الثانوية بنين',\n",
              "       'الغرفة التجارية الثانوية للبنات',\n",
              "       'الفيروز الحديثه ( عربي ) ثانوي', 'الرساله الحديثة لغات ثانوى',\n",
              "       'بور سعيد الثانوية بنين العسكرية', 'بورسعيد الثانوية بنات',\n",
              "       'العصفورى الثانوية الخاصة عربي بنين',\n",
              "       'العصفورى الثانوية للمتفوقين المشتركه عربي'], dtype=object)"
            ]
          },
          "execution_count": 651,
          "metadata": {},
          "output_type": "execute_result"
        }
      ],
      "source": [
        "new = df[\"المدرسة\"].unique()\n",
        "new"
      ]
    },
    {
      "cell_type": "code",
      "execution_count": 652,
      "metadata": {
        "id": "10Hc6s2eGwXA"
      },
      "outputs": [
        {
          "data": {
            "text/plain": [
              "2882"
            ]
          },
          "execution_count": 652,
          "metadata": {},
          "output_type": "execute_result"
        }
      ],
      "source": [
        "# عدد الطلاب \n",
        "all = df[\"حالة_الطالب\"].value_counts().sum()\n",
        "all"
      ]
    },
    {
      "cell_type": "code",
      "execution_count": 653,
      "metadata": {
        "colab": {
          "base_uri": "https://localhost:8080/"
        },
        "id": "yIYY9I3sJJjv",
        "outputId": "abd9d17c-ab3b-4018-e343-df8a2f4a02b5"
      },
      "outputs": [
        {
          "data": {
            "text/plain": [
              "56"
            ]
          },
          "execution_count": 653,
          "metadata": {},
          "output_type": "execute_result"
        }
      ],
      "source": [
        "# عدد الدور التاني \n",
        "round_2 = df[df[\"حالة_الطالب\"] == \"دور ثاني\"].value_counts().sum()\n",
        "round_2"
      ]
    },
    {
      "cell_type": "code",
      "execution_count": 654,
      "metadata": {
        "colab": {
          "base_uri": "https://localhost:8080/"
        },
        "id": "FAtyHJjrJJyX",
        "outputId": "4354be88-1d70-446f-e7bc-248f798ee14f"
      },
      "outputs": [
        {
          "data": {
            "text/plain": [
              "2811"
            ]
          },
          "execution_count": 654,
          "metadata": {},
          "output_type": "execute_result"
        }
      ],
      "source": [
        "# عدد الناجحين\n",
        "success = df[df[\"حالة_الطالب\"] == \"ناجح\"].value_counts().sum()\n",
        "success"
      ]
    },
    {
      "cell_type": "code",
      "execution_count": 655,
      "metadata": {
        "colab": {
          "base_uri": "https://localhost:8080/"
        },
        "id": "rgOlajVdIuqf",
        "outputId": "223c1675-6f39-4f73-f0da-e9cc0cad5abb"
      },
      "outputs": [
        {
          "data": {
            "text/plain": [
              "15"
            ]
          },
          "execution_count": 655,
          "metadata": {},
          "output_type": "execute_result"
        }
      ],
      "source": [
        "# عدد الراسبين\n",
        "failed = df[df[\"حالة_الطالب\"] == \"راسب\"].value_counts().sum()\n",
        "failed"
      ]
    },
    {
      "cell_type": "code",
      "execution_count": 656,
      "metadata": {
        "colab": {
          "base_uri": "https://localhost:8080/"
        },
        "id": "wmbZTunZJxO7",
        "outputId": "1fe48b29-9626-4944-911f-59fd49b272c3"
      },
      "outputs": [
        {
          "name": "stdout",
          "output_type": "stream",
          "text": [
            "Percentage of failed students : 0.52%\n"
          ]
        }
      ],
      "source": [
        "# نسبة الرسوب\n",
        "percentage_failed = failed / all\n",
        "print(f\"Percentage of failed students : {(percentage_failed *100):.2f}%\")"
      ]
    },
    {
      "cell_type": "code",
      "execution_count": 657,
      "metadata": {
        "colab": {
          "base_uri": "https://localhost:8080/"
        },
        "id": "V4J-87TfK1Pg",
        "outputId": "9d7b72ca-31a5-4b12-cbc9-42ae802b8c98"
      },
      "outputs": [
        {
          "name": "stdout",
          "output_type": "stream",
          "text": [
            "Percentage of Successful students : 97.54%\n"
          ]
        }
      ],
      "source": [
        "# نسبة النجاح\n",
        "percentage_success = success / all\n",
        "print(f\"Percentage of Successful students : {(percentage_success *100):.2f}%\")"
      ]
    },
    {
      "cell_type": "code",
      "execution_count": 658,
      "metadata": {
        "colab": {
          "base_uri": "https://localhost:8080/"
        },
        "id": "1ksBb2g8Lhht",
        "outputId": "4b54bf8f-29f3-4189-feb8-f0e1f97f2449"
      },
      "outputs": [
        {
          "name": "stdout",
          "output_type": "stream",
          "text": [
            "Percentage of extension students : 1.94%\n"
          ]
        }
      ],
      "source": [
        "# نسبة الدور التاني\n",
        "percentage_round_2 = round_2 / all\n",
        "print(f\"Percentage of extension students : {(percentage_round_2 *100):.2f}%\")"
      ]
    },
    {
      "cell_type": "code",
      "execution_count": 659,
      "metadata": {
        "colab": {
          "base_uri": "https://localhost:8080/"
        },
        "id": "iHiyoU9pNAgl",
        "outputId": "68cd1220-80d8-431b-a010-7072ef66a58e"
      },
      "outputs": [
        {
          "name": "stdout",
          "output_type": "stream",
          "text": [
            "Percentage of 3lmy_3lom students : 55.90%\n",
            "Percentage of Adaby students : 26.06%\n",
            "Percentage of 3lmy_reyada students : 18.04%\n"
          ]
        }
      ],
      "source": [
        "# نسبه الطلاب بكل شعبة بالنسبة لمجموعهم \n",
        "\n",
        "elmy_olom = df[df[\"الشعبة\"] == \"علمي علوم\"].value_counts().sum()\n",
        "adaby = df[df[\"الشعبة\"] == \"أدبي\"].value_counts().sum()\n",
        "elmy_ryada = df[df[\"الشعبة\"] == \"علمي رياضة\"].value_counts().sum()\n",
        "\n",
        "all_sho3ba = df[\"الشعبة\"].value_counts().sum()\n",
        "\n",
        "percentage_elmy_olom = elmy_olom / all_sho3ba\n",
        "print(f\"Percentage of 3lmy_3lom students : {(percentage_elmy_olom *100):.2f}%\")\n",
        "\n",
        "percentage_adaby = adaby / all_sho3ba\n",
        "print(f\"Percentage of Adaby students : {(percentage_adaby *100):.2f}%\")\n",
        "\n",
        "percentage_elmy_ryada = elmy_ryada / all_sho3ba\n",
        "print(f\"Percentage of 3lmy_reyada students : {(percentage_elmy_ryada *100):.2f}%\")"
      ]
    },
    {
      "cell_type": "code",
      "execution_count": 660,
      "metadata": {
        "id": "x2nSJu45NAjY"
      },
      "outputs": [],
      "source": [
        "elmy_olom_success = (\n",
        "    df[(df[\"الشعبة\"] == \"علمي علوم\") & (df[\"حالة_الطالب\"] == \"ناجح\")]\n",
        "    .value_counts()\n",
        "    .sum()\n",
        ")\n",
        "\n",
        "elmy_olom_round_2 = (\n",
        "    df[(df[\"الشعبة\"] == \"علمي علوم\") & (df[\"حالة_الطالب\"] == \"دور تاني\")]\n",
        "    .value_counts()\n",
        "    .sum()\n",
        ")\n",
        "\n",
        "elmy_olom_failed = (\n",
        "    df[(df[\"الشعبة\"] == \"علمي علوم\") & (df[\"حالة_الطالب\"] == \"راسب\")]\n",
        "    .value_counts()\n",
        "    .sum()\n",
        ")"
      ]
    },
    {
      "cell_type": "code",
      "execution_count": 661,
      "metadata": {
        "id": "iCpwEiGQNAl2"
      },
      "outputs": [],
      "source": [
        "elmy_ryada_success = (\n",
        "    df[(df[\"الشعبة\"] == \"علمي رياضة\") & (df[\"حالة_الطالب\"] == \"ناجح\")]\n",
        "    .value_counts()\n",
        "    .sum()\n",
        ")\n",
        "\n",
        "elmy_ryada_round_2 = (\n",
        "    df[(df[\"الشعبة\"] == \"علمي رياضة\") & (df[\"حالة_الطالب\"] == \"دور تاني\")]\n",
        "    .value_counts()\n",
        "    .sum()\n",
        ")\n",
        "\n",
        "elmy_ryada_failed = (\n",
        "    df[(df[\"الشعبة\"] == \"علمي رياضة\") & (df[\"حالة_الطالب\"] == \"راسب\")]\n",
        "    .value_counts()\n",
        "    .sum()\n",
        ")"
      ]
    },
    {
      "cell_type": "code",
      "execution_count": 662,
      "metadata": {
        "id": "rV41tdgJNAoY"
      },
      "outputs": [],
      "source": [
        "adaby_success = (\n",
        "    df[(df[\"الشعبة\"] == \"أدبي\") & (df[\"حالة_الطالب\"] == \"ناجح\")].value_counts().sum()\n",
        ")\n",
        "\n",
        "adaby_round_2 = (\n",
        "    df[(df[\"الشعبة\"] == \"أدبي\") & (df[\"حالة_الطالب\"] == \"دور تاني\")]\n",
        "    .value_counts()\n",
        "    .sum()\n",
        ")\n",
        "\n",
        "adaby_failed = (\n",
        "    df[(df[\"الشعبة\"] == \"أدبي\") & (df[\"حالة_الطالب\"] == \"راسب\")].value_counts().sum()\n",
        ")"
      ]
    },
    {
      "cell_type": "code",
      "execution_count": 663,
      "metadata": {
        "colab": {
          "base_uri": "https://localhost:8080/"
        },
        "id": "fopOVZBYNAqy",
        "outputId": "f672aecd-a642-43c1-d632-ea5ae4a5046f"
      },
      "outputs": [
        {
          "name": "stdout",
          "output_type": "stream",
          "text": [
            "Percentage of success of Adaby students : 98.14%\n"
          ]
        }
      ],
      "source": [
        "# نسبة نجاح ادبي \n",
        "percentage_adaby_success = adaby_success / adaby\n",
        "print(\n",
        "    f\"Percentage of success of Adaby students : {(percentage_adaby_success *100):.2f}%\"\n",
        ")"
      ]
    },
    {
      "cell_type": "code",
      "execution_count": 664,
      "metadata": {
        "colab": {
          "base_uri": "https://localhost:8080/"
        },
        "id": "oMtgGMGsNAtS",
        "outputId": "339ac8ba-4554-4f01-93f5-c4f4125ad69f"
      },
      "outputs": [
        {
          "name": "stdout",
          "output_type": "stream",
          "text": [
            "Percentage of success of 3lmy Reyada students : 98.08%\n"
          ]
        }
      ],
      "source": [
        "# نسبة نجاح علمي رياضة \n",
        "percentage_reyada_success = elmy_ryada_success / elmy_ryada\n",
        "print(\n",
        "    f\"Percentage of success of 3lmy Reyada students : {(percentage_reyada_success *100):.2f}%\"\n",
        ")"
      ]
    },
    {
      "cell_type": "code",
      "execution_count": 665,
      "metadata": {
        "colab": {
          "base_uri": "https://localhost:8080/"
        },
        "id": "BV6NU08HRqaM",
        "outputId": "39d2c215-16b0-4f93-beae-707d6d8e58a8"
      },
      "outputs": [
        {
          "name": "stdout",
          "output_type": "stream",
          "text": [
            "Percentage of success of 3lmy 3lom students : 97.08%\n"
          ]
        }
      ],
      "source": [
        "# نسبة نجاح علمي علوم\n",
        "percentage_3lom_success = elmy_olom_success / elmy_olom\n",
        "print(\n",
        "    f\"Percentage of success of 3lmy 3lom students : {(percentage_3lom_success *100):.2f}%\"\n",
        ")"
      ]
    },
    {
      "cell_type": "code",
      "execution_count": 666,
      "metadata": {
        "colab": {
          "base_uri": "https://localhost:8080/",
          "height": 397
        },
        "id": "aek08B3PMOrd",
        "outputId": "b04724e2-4d91-462f-bd96-100b493ed1d5"
      },
      "outputs": [],
      "source": [
        "# df[['حالة_الطالب' , 'الشعبة']].value_counts()"
      ]
    },
    {
      "cell_type": "code",
      "execution_count": 667,
      "metadata": {
        "id": "Xy-XOm4zMRIF"
      },
      "outputs": [],
      "source": [
        "def format_number(x):\n",
        "    if x == int(x):\n",
        "        return str(int(x))\n",
        "    else:\n",
        "        return str(x)"
      ]
    },
    {
      "cell_type": "code",
      "execution_count": 668,
      "metadata": {
        "id": "kjk2jOApMRLc"
      },
      "outputs": [],
      "source": [
        "pd.set_option(\"display.float_format\", \"{:,.1f}\".format)"
      ]
    },
    {
      "cell_type": "code",
      "execution_count": 669,
      "metadata": {},
      "outputs": [],
      "source": [
        "pd.set_option(\"display.float_format\", lambda x: format_number(x))"
      ]
    },
    {
      "cell_type": "code",
      "execution_count": 670,
      "metadata": {
        "id": "ZymYiYIcDmz_"
      },
      "outputs": [],
      "source": [
        "Subjects = [\n",
        "    \"اللغة_العربية\",\n",
        "    \"اللغة_الأجنبية_الأولى\",\n",
        "    \"اللغة_الأجنبية_الثانية\",\n",
        "    \"الرياضيات_البحتة\",\n",
        "    \"التاريخ\",\n",
        "    \"الجغرافيا\",\n",
        "    \"الفلسفة_والمنطق\",\n",
        "    \"علم_النفس_والاجتماع\",\n",
        "    \"الكيمياء\",\n",
        "    \"الأحياء\",\n",
        "    \"الجيولوجيا_وعلوم_البيئة\",\n",
        "    \"الرياضيات_التطبيقية\",\n",
        "    \"الفيزياء\",\n",
        "]"
      ]
    },
    {
      "cell_type": "code",
      "execution_count": 671,
      "metadata": {
        "id": "yAJqMhDdZLy5"
      },
      "outputs": [],
      "source": [
        "top_10_results = {}\n",
        "for column in Subjects:\n",
        "\n",
        "    df[column] = pd.to_numeric(df[column], errors=\"coerce\")\n",
        "\n",
        "    top_10 = df.nlargest(10, column)\n",
        "\n",
        "    top_10_table = top_10[[\"الأسم\", column]].reset_index(drop=True)\n",
        "    top_10_table.index = top_10_table.index + 1\n",
        "\n",
        "    top_10_table[column] = top_10_table[column].apply(format_number)\n",
        "    top_10_table[column] = top_10_table[column]\n",
        "\n",
        "    top_10_results[column] = top_10_table"
      ]
    },
    {
      "cell_type": "code",
      "execution_count": 672,
      "metadata": {
        "colab": {
          "base_uri": "https://localhost:8080/",
          "height": 1000
        },
        "id": "rU99KkcRaGIh",
        "outputId": "0282565b-c744-495d-fafd-ab7466ec3c09"
      },
      "outputs": [
        {
          "name": "stdout",
          "output_type": "stream",
          "text": [
            "\n",
            "أعلى 10 طلاب في مادة اللغة_العربية:\n"
          ]
        },
        {
          "data": {
            "text/html": [
              "<div>\n",
              "<style scoped>\n",
              "    .dataframe tbody tr th:only-of-type {\n",
              "        vertical-align: middle;\n",
              "    }\n",
              "\n",
              "    .dataframe tbody tr th {\n",
              "        vertical-align: top;\n",
              "    }\n",
              "\n",
              "    .dataframe thead th {\n",
              "        text-align: right;\n",
              "    }\n",
              "</style>\n",
              "<table border=\"1\" class=\"dataframe\">\n",
              "  <thead>\n",
              "    <tr style=\"text-align: right;\">\n",
              "      <th></th>\n",
              "      <th>الأسم</th>\n",
              "      <th>اللغة_العربية</th>\n",
              "    </tr>\n",
              "  </thead>\n",
              "  <tbody>\n",
              "    <tr>\n",
              "      <th>1</th>\n",
              "      <td>ملك مروان محمد محمد العاطفى</td>\n",
              "      <td>79.5</td>\n",
              "    </tr>\n",
              "    <tr>\n",
              "      <th>2</th>\n",
              "      <td>سيف اشرف محمد عمار مهران</td>\n",
              "      <td>79</td>\n",
              "    </tr>\n",
              "    <tr>\n",
              "      <th>3</th>\n",
              "      <td>سيف مدحت سمير محمد علي خضير</td>\n",
              "      <td>79</td>\n",
              "    </tr>\n",
              "    <tr>\n",
              "      <th>4</th>\n",
              "      <td>عمار عطيه صلاح عطيه عطيه الخولى</td>\n",
              "      <td>79</td>\n",
              "    </tr>\n",
              "    <tr>\n",
              "      <th>5</th>\n",
              "      <td>ملك محمد شعبان محمد الدالى</td>\n",
              "      <td>78</td>\n",
              "    </tr>\n",
              "    <tr>\n",
              "      <th>6</th>\n",
              "      <td>يمنى محمد محمود محمد الديوى</td>\n",
              "      <td>78</td>\n",
              "    </tr>\n",
              "    <tr>\n",
              "      <th>7</th>\n",
              "      <td>زياد محمد محمد عبد الوهاب محمود</td>\n",
              "      <td>78</td>\n",
              "    </tr>\n",
              "    <tr>\n",
              "      <th>8</th>\n",
              "      <td>صالح احمد عصمت محمود حمدى ابراهيم</td>\n",
              "      <td>77.5</td>\n",
              "    </tr>\n",
              "    <tr>\n",
              "      <th>9</th>\n",
              "      <td>عبد الرحمن السيد ابراهيم منصور ابراهيم</td>\n",
              "      <td>77.5</td>\n",
              "    </tr>\n",
              "    <tr>\n",
              "      <th>10</th>\n",
              "      <td>مالك احمد احمد عبد العال شلبى</td>\n",
              "      <td>77.5</td>\n",
              "    </tr>\n",
              "  </tbody>\n",
              "</table>\n",
              "</div>"
            ],
            "text/plain": [
              "                                     الأسم اللغة_العربية\n",
              "1              ملك مروان محمد محمد العاطفى          79.5\n",
              "2                 سيف اشرف محمد عمار مهران            79\n",
              "3              سيف مدحت سمير محمد علي خضير            79\n",
              "4          عمار عطيه صلاح عطيه عطيه الخولى            79\n",
              "5               ملك محمد شعبان محمد الدالى            78\n",
              "6              يمنى محمد محمود محمد الديوى            78\n",
              "7          زياد محمد محمد عبد الوهاب محمود            78\n",
              "8        صالح احمد عصمت محمود حمدى ابراهيم          77.5\n",
              "9   عبد الرحمن السيد ابراهيم منصور ابراهيم          77.5\n",
              "10           مالك احمد احمد عبد العال شلبى          77.5"
            ]
          },
          "metadata": {},
          "output_type": "display_data"
        },
        {
          "name": "stdout",
          "output_type": "stream",
          "text": [
            "\n",
            "أعلى 10 طلاب في مادة اللغة_الأجنبية_الأولى:\n"
          ]
        },
        {
          "data": {
            "text/html": [
              "<div>\n",
              "<style scoped>\n",
              "    .dataframe tbody tr th:only-of-type {\n",
              "        vertical-align: middle;\n",
              "    }\n",
              "\n",
              "    .dataframe tbody tr th {\n",
              "        vertical-align: top;\n",
              "    }\n",
              "\n",
              "    .dataframe thead th {\n",
              "        text-align: right;\n",
              "    }\n",
              "</style>\n",
              "<table border=\"1\" class=\"dataframe\">\n",
              "  <thead>\n",
              "    <tr style=\"text-align: right;\">\n",
              "      <th></th>\n",
              "      <th>الأسم</th>\n",
              "      <th>اللغة_الأجنبية_الأولى</th>\n",
              "    </tr>\n",
              "  </thead>\n",
              "  <tbody>\n",
              "    <tr>\n",
              "      <th>1</th>\n",
              "      <td>مريم احمد السيد احمد فراج</td>\n",
              "      <td>50</td>\n",
              "    </tr>\n",
              "    <tr>\n",
              "      <th>2</th>\n",
              "      <td>روان محمد احمد السيد العيسوى</td>\n",
              "      <td>50</td>\n",
              "    </tr>\n",
              "    <tr>\n",
              "      <th>3</th>\n",
              "      <td>ملك مروان محمد محمد العاطفى</td>\n",
              "      <td>50</td>\n",
              "    </tr>\n",
              "    <tr>\n",
              "      <th>4</th>\n",
              "      <td>ماريا عزت ابراهيم صفوت رزق الله</td>\n",
              "      <td>49.5</td>\n",
              "    </tr>\n",
              "    <tr>\n",
              "      <th>5</th>\n",
              "      <td>جهاد محمد احمد محمد خليفه</td>\n",
              "      <td>49.5</td>\n",
              "    </tr>\n",
              "    <tr>\n",
              "      <th>6</th>\n",
              "      <td>مريم ماهر محمد محمد عبد اللطيف</td>\n",
              "      <td>49.5</td>\n",
              "    </tr>\n",
              "    <tr>\n",
              "      <th>7</th>\n",
              "      <td>أمجد جابر جابر جابر حسن السخرى</td>\n",
              "      <td>49.5</td>\n",
              "    </tr>\n",
              "    <tr>\n",
              "      <th>8</th>\n",
              "      <td>كريم احمد محمد ابو المعاطى فراج</td>\n",
              "      <td>49.5</td>\n",
              "    </tr>\n",
              "    <tr>\n",
              "      <th>9</th>\n",
              "      <td>منه السيد احمد مصطفى محمد</td>\n",
              "      <td>49.5</td>\n",
              "    </tr>\n",
              "    <tr>\n",
              "      <th>10</th>\n",
              "      <td>منه الله هشام محمد حامد شهدة</td>\n",
              "      <td>49.5</td>\n",
              "    </tr>\n",
              "  </tbody>\n",
              "</table>\n",
              "</div>"
            ],
            "text/plain": [
              "                              الأسم اللغة_الأجنبية_الأولى\n",
              "1         مريم احمد السيد احمد فراج                    50\n",
              "2      روان محمد احمد السيد العيسوى                    50\n",
              "3       ملك مروان محمد محمد العاطفى                    50\n",
              "4   ماريا عزت ابراهيم صفوت رزق الله                  49.5\n",
              "5         جهاد محمد احمد محمد خليفه                  49.5\n",
              "6    مريم ماهر محمد محمد عبد اللطيف                  49.5\n",
              "7    أمجد جابر جابر جابر حسن السخرى                  49.5\n",
              "8   كريم احمد محمد ابو المعاطى فراج                  49.5\n",
              "9         منه السيد احمد مصطفى محمد                  49.5\n",
              "10     منه الله هشام محمد حامد شهدة                  49.5"
            ]
          },
          "metadata": {},
          "output_type": "display_data"
        },
        {
          "name": "stdout",
          "output_type": "stream",
          "text": [
            "\n",
            "أعلى 10 طلاب في مادة اللغة_الأجنبية_الثانية:\n"
          ]
        },
        {
          "data": {
            "text/html": [
              "<div>\n",
              "<style scoped>\n",
              "    .dataframe tbody tr th:only-of-type {\n",
              "        vertical-align: middle;\n",
              "    }\n",
              "\n",
              "    .dataframe tbody tr th {\n",
              "        vertical-align: top;\n",
              "    }\n",
              "\n",
              "    .dataframe thead th {\n",
              "        text-align: right;\n",
              "    }\n",
              "</style>\n",
              "<table border=\"1\" class=\"dataframe\">\n",
              "  <thead>\n",
              "    <tr style=\"text-align: right;\">\n",
              "      <th></th>\n",
              "      <th>الأسم</th>\n",
              "      <th>اللغة_الأجنبية_الثانية</th>\n",
              "    </tr>\n",
              "  </thead>\n",
              "  <tbody>\n",
              "    <tr>\n",
              "      <th>1</th>\n",
              "      <td>احمد اشرف احمد حسن العباسى</td>\n",
              "      <td>40</td>\n",
              "    </tr>\n",
              "    <tr>\n",
              "      <th>2</th>\n",
              "      <td>احمد اشرف محمود عبد الحليم خليل</td>\n",
              "      <td>40</td>\n",
              "    </tr>\n",
              "    <tr>\n",
              "      <th>3</th>\n",
              "      <td>أحمد محمد محمد ابو المعاطي ابو المعاطي</td>\n",
              "      <td>40</td>\n",
              "    </tr>\n",
              "    <tr>\n",
              "      <th>4</th>\n",
              "      <td>اياد مصطفى السيد مصطفى شلاطه</td>\n",
              "      <td>40</td>\n",
              "    </tr>\n",
              "    <tr>\n",
              "      <th>5</th>\n",
              "      <td>زياد عادل حسين محمد حسين</td>\n",
              "      <td>40</td>\n",
              "    </tr>\n",
              "    <tr>\n",
              "      <th>6</th>\n",
              "      <td>زياد يوسف فؤاد يوسف فياض</td>\n",
              "      <td>40</td>\n",
              "    </tr>\n",
              "    <tr>\n",
              "      <th>7</th>\n",
              "      <td>سيف على ابو العطا مسعد الغيطانى</td>\n",
              "      <td>40</td>\n",
              "    </tr>\n",
              "    <tr>\n",
              "      <th>8</th>\n",
              "      <td>عبد الرحمن أيمن صبيح على إبراهيم الغضبان</td>\n",
              "      <td>40</td>\n",
              "    </tr>\n",
              "    <tr>\n",
              "      <th>9</th>\n",
              "      <td>عبد الرحمن حسن مصطفى السيد حمام</td>\n",
              "      <td>40</td>\n",
              "    </tr>\n",
              "    <tr>\n",
              "      <th>10</th>\n",
              "      <td>عمر ابراهيم احمد السيد النجار</td>\n",
              "      <td>40</td>\n",
              "    </tr>\n",
              "  </tbody>\n",
              "</table>\n",
              "</div>"
            ],
            "text/plain": [
              "                                       الأسم اللغة_الأجنبية_الثانية\n",
              "1                 احمد اشرف احمد حسن العباسى                     40\n",
              "2            احمد اشرف محمود عبد الحليم خليل                     40\n",
              "3     أحمد محمد محمد ابو المعاطي ابو المعاطي                     40\n",
              "4               اياد مصطفى السيد مصطفى شلاطه                     40\n",
              "5                   زياد عادل حسين محمد حسين                     40\n",
              "6                   زياد يوسف فؤاد يوسف فياض                     40\n",
              "7            سيف على ابو العطا مسعد الغيطانى                     40\n",
              "8   عبد الرحمن أيمن صبيح على إبراهيم الغضبان                     40\n",
              "9            عبد الرحمن حسن مصطفى السيد حمام                     40\n",
              "10             عمر ابراهيم احمد السيد النجار                     40"
            ]
          },
          "metadata": {},
          "output_type": "display_data"
        },
        {
          "name": "stdout",
          "output_type": "stream",
          "text": [
            "\n",
            "أعلى 10 طلاب في مادة الرياضيات_البحتة:\n"
          ]
        },
        {
          "data": {
            "text/html": [
              "<div>\n",
              "<style scoped>\n",
              "    .dataframe tbody tr th:only-of-type {\n",
              "        vertical-align: middle;\n",
              "    }\n",
              "\n",
              "    .dataframe tbody tr th {\n",
              "        vertical-align: top;\n",
              "    }\n",
              "\n",
              "    .dataframe thead th {\n",
              "        text-align: right;\n",
              "    }\n",
              "</style>\n",
              "<table border=\"1\" class=\"dataframe\">\n",
              "  <thead>\n",
              "    <tr style=\"text-align: right;\">\n",
              "      <th></th>\n",
              "      <th>الأسم</th>\n",
              "      <th>الرياضيات_البحتة</th>\n",
              "    </tr>\n",
              "  </thead>\n",
              "  <tbody>\n",
              "    <tr>\n",
              "      <th>1</th>\n",
              "      <td>اسلام سامى محمد احمد بدران</td>\n",
              "      <td>60</td>\n",
              "    </tr>\n",
              "    <tr>\n",
              "      <th>2</th>\n",
              "      <td>باسل محمد السيد سالم البحراوى</td>\n",
              "      <td>60</td>\n",
              "    </tr>\n",
              "    <tr>\n",
              "      <th>3</th>\n",
              "      <td>المعتصم أحمد محمد عبد المطلب محمد</td>\n",
              "      <td>60</td>\n",
              "    </tr>\n",
              "    <tr>\n",
              "      <th>4</th>\n",
              "      <td>ستيفن جرجس ايوب عيسى ايوب</td>\n",
              "      <td>60</td>\n",
              "    </tr>\n",
              "    <tr>\n",
              "      <th>5</th>\n",
              "      <td>يوسف فوزى محمد محمد الروضى</td>\n",
              "      <td>60</td>\n",
              "    </tr>\n",
              "    <tr>\n",
              "      <th>6</th>\n",
              "      <td>يوسف هشام فتحى رزق النجدى</td>\n",
              "      <td>60</td>\n",
              "    </tr>\n",
              "    <tr>\n",
              "      <th>7</th>\n",
              "      <td>عائشة معتز محمد على بقشيش</td>\n",
              "      <td>60</td>\n",
              "    </tr>\n",
              "    <tr>\n",
              "      <th>8</th>\n",
              "      <td>احمد على عبدالراضى جادالله حفنى</td>\n",
              "      <td>59</td>\n",
              "    </tr>\n",
              "    <tr>\n",
              "      <th>9</th>\n",
              "      <td>ادهم احمد على احمد سيد احمد</td>\n",
              "      <td>59</td>\n",
              "    </tr>\n",
              "    <tr>\n",
              "      <th>10</th>\n",
              "      <td>تسنيم مسعد صبحى حسن عبد الله</td>\n",
              "      <td>59</td>\n",
              "    </tr>\n",
              "  </tbody>\n",
              "</table>\n",
              "</div>"
            ],
            "text/plain": [
              "                                الأسم الرياضيات_البحتة\n",
              "1          اسلام سامى محمد احمد بدران               60\n",
              "2       باسل محمد السيد سالم البحراوى               60\n",
              "3   المعتصم أحمد محمد عبد المطلب محمد               60\n",
              "4           ستيفن جرجس ايوب عيسى ايوب               60\n",
              "5          يوسف فوزى محمد محمد الروضى               60\n",
              "6           يوسف هشام فتحى رزق النجدى               60\n",
              "7           عائشة معتز محمد على بقشيش               60\n",
              "8     احمد على عبدالراضى جادالله حفنى               59\n",
              "9         ادهم احمد على احمد سيد احمد               59\n",
              "10       تسنيم مسعد صبحى حسن عبد الله               59"
            ]
          },
          "metadata": {},
          "output_type": "display_data"
        },
        {
          "name": "stdout",
          "output_type": "stream",
          "text": [
            "\n",
            "أعلى 10 طلاب في مادة التاريخ:\n"
          ]
        },
        {
          "data": {
            "text/html": [
              "<div>\n",
              "<style scoped>\n",
              "    .dataframe tbody tr th:only-of-type {\n",
              "        vertical-align: middle;\n",
              "    }\n",
              "\n",
              "    .dataframe tbody tr th {\n",
              "        vertical-align: top;\n",
              "    }\n",
              "\n",
              "    .dataframe thead th {\n",
              "        text-align: right;\n",
              "    }\n",
              "</style>\n",
              "<table border=\"1\" class=\"dataframe\">\n",
              "  <thead>\n",
              "    <tr style=\"text-align: right;\">\n",
              "      <th></th>\n",
              "      <th>الأسم</th>\n",
              "      <th>التاريخ</th>\n",
              "    </tr>\n",
              "  </thead>\n",
              "  <tbody>\n",
              "    <tr>\n",
              "      <th>1</th>\n",
              "      <td>جنى باسم محمد السيد عبد الرحمن</td>\n",
              "      <td>60</td>\n",
              "    </tr>\n",
              "    <tr>\n",
              "      <th>2</th>\n",
              "      <td>عمر احمد محمد عبدالقادرمحمد التابعى</td>\n",
              "      <td>59</td>\n",
              "    </tr>\n",
              "    <tr>\n",
              "      <th>3</th>\n",
              "      <td>علاء الدين حسنى محمود عوض الجلودى</td>\n",
              "      <td>58</td>\n",
              "    </tr>\n",
              "    <tr>\n",
              "      <th>4</th>\n",
              "      <td>محمد احمد احمد عبده العشرى</td>\n",
              "      <td>58</td>\n",
              "    </tr>\n",
              "    <tr>\n",
              "      <th>5</th>\n",
              "      <td>احمد ايمن عزت عبدالسلام حسونه</td>\n",
              "      <td>58</td>\n",
              "    </tr>\n",
              "    <tr>\n",
              "      <th>6</th>\n",
              "      <td>احمد فريد فاروق شعبان المنشاوى</td>\n",
              "      <td>58</td>\n",
              "    </tr>\n",
              "    <tr>\n",
              "      <th>7</th>\n",
              "      <td>باسم فوزى فتح الله ضيف معوض</td>\n",
              "      <td>58</td>\n",
              "    </tr>\n",
              "    <tr>\n",
              "      <th>8</th>\n",
              "      <td>بيشوي عادل كميل فهيم مسعود</td>\n",
              "      <td>58</td>\n",
              "    </tr>\n",
              "    <tr>\n",
              "      <th>9</th>\n",
              "      <td>عبد الله احمد سامي محمد امين</td>\n",
              "      <td>58</td>\n",
              "    </tr>\n",
              "    <tr>\n",
              "      <th>10</th>\n",
              "      <td>عبد الله محمد احمد امين سليمان على</td>\n",
              "      <td>58</td>\n",
              "    </tr>\n",
              "  </tbody>\n",
              "</table>\n",
              "</div>"
            ],
            "text/plain": [
              "                                  الأسم التاريخ\n",
              "1        جنى باسم محمد السيد عبد الرحمن      60\n",
              "2   عمر احمد محمد عبدالقادرمحمد التابعى      59\n",
              "3     علاء الدين حسنى محمود عوض الجلودى      58\n",
              "4            محمد احمد احمد عبده العشرى      58\n",
              "5         احمد ايمن عزت عبدالسلام حسونه      58\n",
              "6        احمد فريد فاروق شعبان المنشاوى      58\n",
              "7           باسم فوزى فتح الله ضيف معوض      58\n",
              "8            بيشوي عادل كميل فهيم مسعود      58\n",
              "9          عبد الله احمد سامي محمد امين      58\n",
              "10   عبد الله محمد احمد امين سليمان على      58"
            ]
          },
          "metadata": {},
          "output_type": "display_data"
        },
        {
          "name": "stdout",
          "output_type": "stream",
          "text": [
            "\n",
            "أعلى 10 طلاب في مادة الجغرافيا:\n"
          ]
        },
        {
          "data": {
            "text/html": [
              "<div>\n",
              "<style scoped>\n",
              "    .dataframe tbody tr th:only-of-type {\n",
              "        vertical-align: middle;\n",
              "    }\n",
              "\n",
              "    .dataframe tbody tr th {\n",
              "        vertical-align: top;\n",
              "    }\n",
              "\n",
              "    .dataframe thead th {\n",
              "        text-align: right;\n",
              "    }\n",
              "</style>\n",
              "<table border=\"1\" class=\"dataframe\">\n",
              "  <thead>\n",
              "    <tr style=\"text-align: right;\">\n",
              "      <th></th>\n",
              "      <th>الأسم</th>\n",
              "      <th>الجغرافيا</th>\n",
              "    </tr>\n",
              "  </thead>\n",
              "  <tbody>\n",
              "    <tr>\n",
              "      <th>1</th>\n",
              "      <td>محمد السيد محمود ابراهيم الخولى</td>\n",
              "      <td>60</td>\n",
              "    </tr>\n",
              "    <tr>\n",
              "      <th>2</th>\n",
              "      <td>مهند اشرف محمد السيد عبد المعطى</td>\n",
              "      <td>59</td>\n",
              "    </tr>\n",
              "    <tr>\n",
              "      <th>3</th>\n",
              "      <td>الحسن محمد السيد التابعى محمد يرمه</td>\n",
              "      <td>58</td>\n",
              "    </tr>\n",
              "    <tr>\n",
              "      <th>4</th>\n",
              "      <td>محمد أحمد يوسف عبدالمجيد يوسف جعفر</td>\n",
              "      <td>58</td>\n",
              "    </tr>\n",
              "    <tr>\n",
              "      <th>5</th>\n",
              "      <td>مى محمد حمدى زكى العموشى</td>\n",
              "      <td>58</td>\n",
              "    </tr>\n",
              "    <tr>\n",
              "      <th>6</th>\n",
              "      <td>عبد الرحمن احمد حسن نصر حسنين</td>\n",
              "      <td>58</td>\n",
              "    </tr>\n",
              "    <tr>\n",
              "      <th>7</th>\n",
              "      <td>احمد محمد عبد الحميد محمد الصاوى</td>\n",
              "      <td>58</td>\n",
              "    </tr>\n",
              "    <tr>\n",
              "      <th>8</th>\n",
              "      <td>يوسف على خلف الله عبد الرحيم رشوان</td>\n",
              "      <td>57</td>\n",
              "    </tr>\n",
              "    <tr>\n",
              "      <th>9</th>\n",
              "      <td>يوسف مجدي السيد رزق على فرج</td>\n",
              "      <td>57</td>\n",
              "    </tr>\n",
              "    <tr>\n",
              "      <th>10</th>\n",
              "      <td>مريم ياسر السيد العربى عبد الغفار مسعد حسنين</td>\n",
              "      <td>57</td>\n",
              "    </tr>\n",
              "  </tbody>\n",
              "</table>\n",
              "</div>"
            ],
            "text/plain": [
              "                                           الأسم الجغرافيا\n",
              "1                محمد السيد محمود ابراهيم الخولى        60\n",
              "2                مهند اشرف محمد السيد عبد المعطى        59\n",
              "3             الحسن محمد السيد التابعى محمد يرمه        58\n",
              "4             محمد أحمد يوسف عبدالمجيد يوسف جعفر        58\n",
              "5                       مى محمد حمدى زكى العموشى        58\n",
              "6                  عبد الرحمن احمد حسن نصر حسنين        58\n",
              "7               احمد محمد عبد الحميد محمد الصاوى        58\n",
              "8             يوسف على خلف الله عبد الرحيم رشوان        57\n",
              "9                    يوسف مجدي السيد رزق على فرج        57\n",
              "10  مريم ياسر السيد العربى عبد الغفار مسعد حسنين        57"
            ]
          },
          "metadata": {},
          "output_type": "display_data"
        },
        {
          "name": "stdout",
          "output_type": "stream",
          "text": [
            "\n",
            "أعلى 10 طلاب في مادة الفلسفة_والمنطق:\n"
          ]
        },
        {
          "data": {
            "text/html": [
              "<div>\n",
              "<style scoped>\n",
              "    .dataframe tbody tr th:only-of-type {\n",
              "        vertical-align: middle;\n",
              "    }\n",
              "\n",
              "    .dataframe tbody tr th {\n",
              "        vertical-align: top;\n",
              "    }\n",
              "\n",
              "    .dataframe thead th {\n",
              "        text-align: right;\n",
              "    }\n",
              "</style>\n",
              "<table border=\"1\" class=\"dataframe\">\n",
              "  <thead>\n",
              "    <tr style=\"text-align: right;\">\n",
              "      <th></th>\n",
              "      <th>الأسم</th>\n",
              "      <th>الفلسفة_والمنطق</th>\n",
              "    </tr>\n",
              "  </thead>\n",
              "  <tbody>\n",
              "    <tr>\n",
              "      <th>1</th>\n",
              "      <td>احمد السيد احمد محمد درويش</td>\n",
              "      <td>57</td>\n",
              "    </tr>\n",
              "    <tr>\n",
              "      <th>2</th>\n",
              "      <td>تسبيح يحيى عبد العال عباس محمد</td>\n",
              "      <td>56</td>\n",
              "    </tr>\n",
              "    <tr>\n",
              "      <th>3</th>\n",
              "      <td>محمد السيد محمود ابراهيم الخولى</td>\n",
              "      <td>55</td>\n",
              "    </tr>\n",
              "    <tr>\n",
              "      <th>4</th>\n",
              "      <td>روان يوسف عباس السمان مبارك</td>\n",
              "      <td>55</td>\n",
              "    </tr>\n",
              "    <tr>\n",
              "      <th>5</th>\n",
              "      <td>رحمه محمد السيد محمد الباز</td>\n",
              "      <td>55</td>\n",
              "    </tr>\n",
              "    <tr>\n",
              "      <th>6</th>\n",
              "      <td>يوستينا سامى فايز سيفين يوسف</td>\n",
              "      <td>55</td>\n",
              "    </tr>\n",
              "    <tr>\n",
              "      <th>7</th>\n",
              "      <td>احمد مصطفى كامل فاضل</td>\n",
              "      <td>55</td>\n",
              "    </tr>\n",
              "    <tr>\n",
              "      <th>8</th>\n",
              "      <td>أمير راجى رمزى ميخائيل جريس</td>\n",
              "      <td>55</td>\n",
              "    </tr>\n",
              "    <tr>\n",
              "      <th>9</th>\n",
              "      <td>جنى اسامه عوض عوض السيد الخواجه</td>\n",
              "      <td>55</td>\n",
              "    </tr>\n",
              "    <tr>\n",
              "      <th>10</th>\n",
              "      <td>جنى تامر عبده مجاهد بدر</td>\n",
              "      <td>55</td>\n",
              "    </tr>\n",
              "  </tbody>\n",
              "</table>\n",
              "</div>"
            ],
            "text/plain": [
              "                              الأسم الفلسفة_والمنطق\n",
              "1        احمد السيد احمد محمد درويش              57\n",
              "2    تسبيح يحيى عبد العال عباس محمد              56\n",
              "3   محمد السيد محمود ابراهيم الخولى              55\n",
              "4       روان يوسف عباس السمان مبارك              55\n",
              "5        رحمه محمد السيد محمد الباز              55\n",
              "6      يوستينا سامى فايز سيفين يوسف              55\n",
              "7              احمد مصطفى كامل فاضل              55\n",
              "8       أمير راجى رمزى ميخائيل جريس              55\n",
              "9   جنى اسامه عوض عوض السيد الخواجه              55\n",
              "10          جنى تامر عبده مجاهد بدر              55"
            ]
          },
          "metadata": {},
          "output_type": "display_data"
        },
        {
          "name": "stdout",
          "output_type": "stream",
          "text": [
            "\n",
            "أعلى 10 طلاب في مادة علم_النفس_والاجتماع:\n"
          ]
        },
        {
          "data": {
            "text/html": [
              "<div>\n",
              "<style scoped>\n",
              "    .dataframe tbody tr th:only-of-type {\n",
              "        vertical-align: middle;\n",
              "    }\n",
              "\n",
              "    .dataframe tbody tr th {\n",
              "        vertical-align: top;\n",
              "    }\n",
              "\n",
              "    .dataframe thead th {\n",
              "        text-align: right;\n",
              "    }\n",
              "</style>\n",
              "<table border=\"1\" class=\"dataframe\">\n",
              "  <thead>\n",
              "    <tr style=\"text-align: right;\">\n",
              "      <th></th>\n",
              "      <th>الأسم</th>\n",
              "      <th>علم_النفس_والاجتماع</th>\n",
              "    </tr>\n",
              "  </thead>\n",
              "  <tbody>\n",
              "    <tr>\n",
              "      <th>1</th>\n",
              "      <td>بسمله وليد صابر محمود محمد</td>\n",
              "      <td>59</td>\n",
              "    </tr>\n",
              "    <tr>\n",
              "      <th>2</th>\n",
              "      <td>مريم وليد أبو المجد محمد احمد غزالى</td>\n",
              "      <td>58</td>\n",
              "    </tr>\n",
              "    <tr>\n",
              "      <th>3</th>\n",
              "      <td>عمرو محمد السيد عبد الهادى عمر</td>\n",
              "      <td>58</td>\n",
              "    </tr>\n",
              "    <tr>\n",
              "      <th>4</th>\n",
              "      <td>ايه محمد غريب عبد الحميد شاهين</td>\n",
              "      <td>58</td>\n",
              "    </tr>\n",
              "    <tr>\n",
              "      <th>5</th>\n",
              "      <td>جنى محمد السيد ابراهيم الجبه</td>\n",
              "      <td>58</td>\n",
              "    </tr>\n",
              "    <tr>\n",
              "      <th>6</th>\n",
              "      <td>لوجينا تامر محمد نصر الدين فهيم</td>\n",
              "      <td>58</td>\n",
              "    </tr>\n",
              "    <tr>\n",
              "      <th>7</th>\n",
              "      <td>مريم ايهاب عبد الله محمود عبد الله</td>\n",
              "      <td>57.5</td>\n",
              "    </tr>\n",
              "    <tr>\n",
              "      <th>8</th>\n",
              "      <td>كريمان محمد عبد الغنى محمد محمد عامر</td>\n",
              "      <td>57</td>\n",
              "    </tr>\n",
              "    <tr>\n",
              "      <th>9</th>\n",
              "      <td>موده عاشور فؤاد محمد موسى</td>\n",
              "      <td>57</td>\n",
              "    </tr>\n",
              "    <tr>\n",
              "      <th>10</th>\n",
              "      <td>نور ايهاب محمد احمد محمد</td>\n",
              "      <td>57</td>\n",
              "    </tr>\n",
              "  </tbody>\n",
              "</table>\n",
              "</div>"
            ],
            "text/plain": [
              "                                   الأسم علم_النفس_والاجتماع\n",
              "1             بسمله وليد صابر محمود محمد                  59\n",
              "2    مريم وليد أبو المجد محمد احمد غزالى                  58\n",
              "3         عمرو محمد السيد عبد الهادى عمر                  58\n",
              "4         ايه محمد غريب عبد الحميد شاهين                  58\n",
              "5           جنى محمد السيد ابراهيم الجبه                  58\n",
              "6        لوجينا تامر محمد نصر الدين فهيم                  58\n",
              "7     مريم ايهاب عبد الله محمود عبد الله                57.5\n",
              "8   كريمان محمد عبد الغنى محمد محمد عامر                  57\n",
              "9              موده عاشور فؤاد محمد موسى                  57\n",
              "10              نور ايهاب محمد احمد محمد                  57"
            ]
          },
          "metadata": {},
          "output_type": "display_data"
        },
        {
          "name": "stdout",
          "output_type": "stream",
          "text": [
            "\n",
            "أعلى 10 طلاب في مادة الكيمياء:\n"
          ]
        },
        {
          "data": {
            "text/html": [
              "<div>\n",
              "<style scoped>\n",
              "    .dataframe tbody tr th:only-of-type {\n",
              "        vertical-align: middle;\n",
              "    }\n",
              "\n",
              "    .dataframe tbody tr th {\n",
              "        vertical-align: top;\n",
              "    }\n",
              "\n",
              "    .dataframe thead th {\n",
              "        text-align: right;\n",
              "    }\n",
              "</style>\n",
              "<table border=\"1\" class=\"dataframe\">\n",
              "  <thead>\n",
              "    <tr style=\"text-align: right;\">\n",
              "      <th></th>\n",
              "      <th>الأسم</th>\n",
              "      <th>الكيمياء</th>\n",
              "    </tr>\n",
              "  </thead>\n",
              "  <tbody>\n",
              "    <tr>\n",
              "      <th>1</th>\n",
              "      <td>أمجد جابر جابر جابر حسن السخرى</td>\n",
              "      <td>60</td>\n",
              "    </tr>\n",
              "    <tr>\n",
              "      <th>2</th>\n",
              "      <td>احمد محمد محمد مصطفى القيعى</td>\n",
              "      <td>60</td>\n",
              "    </tr>\n",
              "    <tr>\n",
              "      <th>3</th>\n",
              "      <td>علي محمد علي السيد الصولي</td>\n",
              "      <td>59</td>\n",
              "    </tr>\n",
              "    <tr>\n",
              "      <th>4</th>\n",
              "      <td>يسرا احمد مختار السيد سالم</td>\n",
              "      <td>59</td>\n",
              "    </tr>\n",
              "    <tr>\n",
              "      <th>5</th>\n",
              "      <td>فاطمه الزهراء حازم محمد محمد عبد الوهاب الباز</td>\n",
              "      <td>59</td>\n",
              "    </tr>\n",
              "    <tr>\n",
              "      <th>6</th>\n",
              "      <td>اديان غسان عبد المنعم على شومان</td>\n",
              "      <td>59</td>\n",
              "    </tr>\n",
              "    <tr>\n",
              "      <th>7</th>\n",
              "      <td>زياد محمد محمد عبد الغنى بلاط</td>\n",
              "      <td>59</td>\n",
              "    </tr>\n",
              "    <tr>\n",
              "      <th>8</th>\n",
              "      <td>عبد الرحمن عاطف حسن مشالي</td>\n",
              "      <td>59</td>\n",
              "    </tr>\n",
              "    <tr>\n",
              "      <th>9</th>\n",
              "      <td>عمرو محمد محمد سعد محمد شعبان</td>\n",
              "      <td>59</td>\n",
              "    </tr>\n",
              "    <tr>\n",
              "      <th>10</th>\n",
              "      <td>مازن محمد السيد ابراهيم سعيد</td>\n",
              "      <td>59</td>\n",
              "    </tr>\n",
              "  </tbody>\n",
              "</table>\n",
              "</div>"
            ],
            "text/plain": [
              "                                            الأسم الكيمياء\n",
              "1                  أمجد جابر جابر جابر حسن السخرى       60\n",
              "2                     احمد محمد محمد مصطفى القيعى       60\n",
              "3                       علي محمد علي السيد الصولي       59\n",
              "4                      يسرا احمد مختار السيد سالم       59\n",
              "5   فاطمه الزهراء حازم محمد محمد عبد الوهاب الباز       59\n",
              "6                 اديان غسان عبد المنعم على شومان       59\n",
              "7                   زياد محمد محمد عبد الغنى بلاط       59\n",
              "8                       عبد الرحمن عاطف حسن مشالي       59\n",
              "9                   عمرو محمد محمد سعد محمد شعبان       59\n",
              "10                   مازن محمد السيد ابراهيم سعيد       59"
            ]
          },
          "metadata": {},
          "output_type": "display_data"
        },
        {
          "name": "stdout",
          "output_type": "stream",
          "text": [
            "\n",
            "أعلى 10 طلاب في مادة الأحياء:\n"
          ]
        },
        {
          "data": {
            "text/html": [
              "<div>\n",
              "<style scoped>\n",
              "    .dataframe tbody tr th:only-of-type {\n",
              "        vertical-align: middle;\n",
              "    }\n",
              "\n",
              "    .dataframe tbody tr th {\n",
              "        vertical-align: top;\n",
              "    }\n",
              "\n",
              "    .dataframe thead th {\n",
              "        text-align: right;\n",
              "    }\n",
              "</style>\n",
              "<table border=\"1\" class=\"dataframe\">\n",
              "  <thead>\n",
              "    <tr style=\"text-align: right;\">\n",
              "      <th></th>\n",
              "      <th>الأسم</th>\n",
              "      <th>الأحياء</th>\n",
              "    </tr>\n",
              "  </thead>\n",
              "  <tbody>\n",
              "    <tr>\n",
              "      <th>1</th>\n",
              "      <td>عمرو مهدي علي أحمد معوض</td>\n",
              "      <td>57</td>\n",
              "    </tr>\n",
              "    <tr>\n",
              "      <th>2</th>\n",
              "      <td>روان اسامه السيد ابراهيم حسن</td>\n",
              "      <td>56</td>\n",
              "    </tr>\n",
              "    <tr>\n",
              "      <th>3</th>\n",
              "      <td>نورهان نصر الدين ابراهيم محمود عبد الحافظ</td>\n",
              "      <td>56</td>\n",
              "    </tr>\n",
              "    <tr>\n",
              "      <th>4</th>\n",
              "      <td>يوسف أحمد محمد عبده السيد جربوع</td>\n",
              "      <td>56</td>\n",
              "    </tr>\n",
              "    <tr>\n",
              "      <th>5</th>\n",
              "      <td>سيف اشرف محمد عمار مهران</td>\n",
              "      <td>56</td>\n",
              "    </tr>\n",
              "    <tr>\n",
              "      <th>6</th>\n",
              "      <td>سيف مدحت سمير محمد علي خضير</td>\n",
              "      <td>56</td>\n",
              "    </tr>\n",
              "    <tr>\n",
              "      <th>7</th>\n",
              "      <td>عبد الرحمن احمد جلال عبد الغني الجيار</td>\n",
              "      <td>56</td>\n",
              "    </tr>\n",
              "    <tr>\n",
              "      <th>8</th>\n",
              "      <td>عمار عطيه صلاح عطيه عطيه الخولى</td>\n",
              "      <td>56</td>\n",
              "    </tr>\n",
              "    <tr>\n",
              "      <th>9</th>\n",
              "      <td>عمر محمود ابراهيم الدسوقى احمد فوده</td>\n",
              "      <td>56</td>\n",
              "    </tr>\n",
              "    <tr>\n",
              "      <th>10</th>\n",
              "      <td>رؤى محمد عبد الله ابو عاشور حمدالله</td>\n",
              "      <td>56</td>\n",
              "    </tr>\n",
              "  </tbody>\n",
              "</table>\n",
              "</div>"
            ],
            "text/plain": [
              "                                        الأسم الأحياء\n",
              "1                     عمرو مهدي علي أحمد معوض      57\n",
              "2                روان اسامه السيد ابراهيم حسن      56\n",
              "3   نورهان نصر الدين ابراهيم محمود عبد الحافظ      56\n",
              "4             يوسف أحمد محمد عبده السيد جربوع      56\n",
              "5                    سيف اشرف محمد عمار مهران      56\n",
              "6                 سيف مدحت سمير محمد علي خضير      56\n",
              "7       عبد الرحمن احمد جلال عبد الغني الجيار      56\n",
              "8             عمار عطيه صلاح عطيه عطيه الخولى      56\n",
              "9         عمر محمود ابراهيم الدسوقى احمد فوده      56\n",
              "10        رؤى محمد عبد الله ابو عاشور حمدالله      56"
            ]
          },
          "metadata": {},
          "output_type": "display_data"
        },
        {
          "name": "stdout",
          "output_type": "stream",
          "text": [
            "\n",
            "أعلى 10 طلاب في مادة الجيولوجيا_وعلوم_البيئة:\n"
          ]
        },
        {
          "data": {
            "text/html": [
              "<div>\n",
              "<style scoped>\n",
              "    .dataframe tbody tr th:only-of-type {\n",
              "        vertical-align: middle;\n",
              "    }\n",
              "\n",
              "    .dataframe tbody tr th {\n",
              "        vertical-align: top;\n",
              "    }\n",
              "\n",
              "    .dataframe thead th {\n",
              "        text-align: right;\n",
              "    }\n",
              "</style>\n",
              "<table border=\"1\" class=\"dataframe\">\n",
              "  <thead>\n",
              "    <tr style=\"text-align: right;\">\n",
              "      <th></th>\n",
              "      <th>الأسم</th>\n",
              "      <th>الجيولوجيا_وعلوم_البيئة</th>\n",
              "    </tr>\n",
              "  </thead>\n",
              "  <tbody>\n",
              "    <tr>\n",
              "      <th>1</th>\n",
              "      <td>أحمد محمد السيد العربى متولى أحمد شعبان</td>\n",
              "      <td>60</td>\n",
              "    </tr>\n",
              "    <tr>\n",
              "      <th>2</th>\n",
              "      <td>أحمد محمد محمد ابو المعاطي ابو المعاطي</td>\n",
              "      <td>60</td>\n",
              "    </tr>\n",
              "    <tr>\n",
              "      <th>3</th>\n",
              "      <td>زياد طارق محمد مصطفى العايدى</td>\n",
              "      <td>60</td>\n",
              "    </tr>\n",
              "    <tr>\n",
              "      <th>4</th>\n",
              "      <td>زياد عادل حسين محمد حسين</td>\n",
              "      <td>60</td>\n",
              "    </tr>\n",
              "    <tr>\n",
              "      <th>5</th>\n",
              "      <td>زياد يوسف فؤاد يوسف فياض</td>\n",
              "      <td>60</td>\n",
              "    </tr>\n",
              "    <tr>\n",
              "      <th>6</th>\n",
              "      <td>عبد الرحمن أيمن صبيح على إبراهيم الغضبان</td>\n",
              "      <td>60</td>\n",
              "    </tr>\n",
              "    <tr>\n",
              "      <th>7</th>\n",
              "      <td>محمد منتصر انور عبد العليم موسى</td>\n",
              "      <td>60</td>\n",
              "    </tr>\n",
              "    <tr>\n",
              "      <th>8</th>\n",
              "      <td>محمد وائل محمد محمد صبح</td>\n",
              "      <td>60</td>\n",
              "    </tr>\n",
              "    <tr>\n",
              "      <th>9</th>\n",
              "      <td>محمود محمد عوض عبده عبد المعطى محمد</td>\n",
              "      <td>60</td>\n",
              "    </tr>\n",
              "    <tr>\n",
              "      <th>10</th>\n",
              "      <td>محمود محمد محمد عبده ابو زيد</td>\n",
              "      <td>60</td>\n",
              "    </tr>\n",
              "  </tbody>\n",
              "</table>\n",
              "</div>"
            ],
            "text/plain": [
              "                                       الأسم الجيولوجيا_وعلوم_البيئة\n",
              "1    أحمد محمد السيد العربى متولى أحمد شعبان                      60\n",
              "2     أحمد محمد محمد ابو المعاطي ابو المعاطي                      60\n",
              "3               زياد طارق محمد مصطفى العايدى                      60\n",
              "4                   زياد عادل حسين محمد حسين                      60\n",
              "5                   زياد يوسف فؤاد يوسف فياض                      60\n",
              "6   عبد الرحمن أيمن صبيح على إبراهيم الغضبان                      60\n",
              "7            محمد منتصر انور عبد العليم موسى                      60\n",
              "8                    محمد وائل محمد محمد صبح                      60\n",
              "9        محمود محمد عوض عبده عبد المعطى محمد                      60\n",
              "10              محمود محمد محمد عبده ابو زيد                      60"
            ]
          },
          "metadata": {},
          "output_type": "display_data"
        },
        {
          "name": "stdout",
          "output_type": "stream",
          "text": [
            "\n",
            "أعلى 10 طلاب في مادة الرياضيات_التطبيقية:\n"
          ]
        },
        {
          "data": {
            "text/html": [
              "<div>\n",
              "<style scoped>\n",
              "    .dataframe tbody tr th:only-of-type {\n",
              "        vertical-align: middle;\n",
              "    }\n",
              "\n",
              "    .dataframe tbody tr th {\n",
              "        vertical-align: top;\n",
              "    }\n",
              "\n",
              "    .dataframe thead th {\n",
              "        text-align: right;\n",
              "    }\n",
              "</style>\n",
              "<table border=\"1\" class=\"dataframe\">\n",
              "  <thead>\n",
              "    <tr style=\"text-align: right;\">\n",
              "      <th></th>\n",
              "      <th>الأسم</th>\n",
              "      <th>الرياضيات_التطبيقية</th>\n",
              "    </tr>\n",
              "  </thead>\n",
              "  <tbody>\n",
              "    <tr>\n",
              "      <th>1</th>\n",
              "      <td>يمنى محمد محمود محمد الديوى</td>\n",
              "      <td>60</td>\n",
              "    </tr>\n",
              "    <tr>\n",
              "      <th>2</th>\n",
              "      <td>ابراهيم عبده ابراهيم على السيد شطا</td>\n",
              "      <td>60</td>\n",
              "    </tr>\n",
              "    <tr>\n",
              "      <th>3</th>\n",
              "      <td>احمد رامي محمد محمد حسن علي</td>\n",
              "      <td>60</td>\n",
              "    </tr>\n",
              "    <tr>\n",
              "      <th>4</th>\n",
              "      <td>احمد رامي مسعد غريب الشربينى</td>\n",
              "      <td>60</td>\n",
              "    </tr>\n",
              "    <tr>\n",
              "      <th>5</th>\n",
              "      <td>احمد محمد السيد محمود النجار</td>\n",
              "      <td>60</td>\n",
              "    </tr>\n",
              "    <tr>\n",
              "      <th>6</th>\n",
              "      <td>أحمد محمد خليفة المليجى المرسى</td>\n",
              "      <td>60</td>\n",
              "    </tr>\n",
              "    <tr>\n",
              "      <th>7</th>\n",
              "      <td>احمد نادر فؤاد محمد الصيفى</td>\n",
              "      <td>60</td>\n",
              "    </tr>\n",
              "    <tr>\n",
              "      <th>8</th>\n",
              "      <td>ادهم على حسن على غندر</td>\n",
              "      <td>60</td>\n",
              "    </tr>\n",
              "    <tr>\n",
              "      <th>9</th>\n",
              "      <td>اسلام بيومي مرشود يوسف عرابى</td>\n",
              "      <td>60</td>\n",
              "    </tr>\n",
              "    <tr>\n",
              "      <th>10</th>\n",
              "      <td>بلال محمد محمود التابعي حسن</td>\n",
              "      <td>60</td>\n",
              "    </tr>\n",
              "  </tbody>\n",
              "</table>\n",
              "</div>"
            ],
            "text/plain": [
              "                                 الأسم الرياضيات_التطبيقية\n",
              "1          يمنى محمد محمود محمد الديوى                  60\n",
              "2   ابراهيم عبده ابراهيم على السيد شطا                  60\n",
              "3          احمد رامي محمد محمد حسن علي                  60\n",
              "4         احمد رامي مسعد غريب الشربينى                  60\n",
              "5         احمد محمد السيد محمود النجار                  60\n",
              "6       أحمد محمد خليفة المليجى المرسى                  60\n",
              "7           احمد نادر فؤاد محمد الصيفى                  60\n",
              "8                ادهم على حسن على غندر                  60\n",
              "9         اسلام بيومي مرشود يوسف عرابى                  60\n",
              "10         بلال محمد محمود التابعي حسن                  60"
            ]
          },
          "metadata": {},
          "output_type": "display_data"
        },
        {
          "name": "stdout",
          "output_type": "stream",
          "text": [
            "\n",
            "أعلى 10 طلاب في مادة الفيزياء:\n"
          ]
        },
        {
          "data": {
            "text/html": [
              "<div>\n",
              "<style scoped>\n",
              "    .dataframe tbody tr th:only-of-type {\n",
              "        vertical-align: middle;\n",
              "    }\n",
              "\n",
              "    .dataframe tbody tr th {\n",
              "        vertical-align: top;\n",
              "    }\n",
              "\n",
              "    .dataframe thead th {\n",
              "        text-align: right;\n",
              "    }\n",
              "</style>\n",
              "<table border=\"1\" class=\"dataframe\">\n",
              "  <thead>\n",
              "    <tr style=\"text-align: right;\">\n",
              "      <th></th>\n",
              "      <th>الأسم</th>\n",
              "      <th>الفيزياء</th>\n",
              "    </tr>\n",
              "  </thead>\n",
              "  <tbody>\n",
              "    <tr>\n",
              "      <th>1</th>\n",
              "      <td>زياد عادل حسين محمد حسين</td>\n",
              "      <td>60</td>\n",
              "    </tr>\n",
              "    <tr>\n",
              "      <th>2</th>\n",
              "      <td>علي محمود التابعي محمود حمام</td>\n",
              "      <td>60</td>\n",
              "    </tr>\n",
              "    <tr>\n",
              "      <th>3</th>\n",
              "      <td>علي محمود محمد محمود المرسي</td>\n",
              "      <td>60</td>\n",
              "    </tr>\n",
              "    <tr>\n",
              "      <th>4</th>\n",
              "      <td>مريم محمد حسانين محمود السيد</td>\n",
              "      <td>60</td>\n",
              "    </tr>\n",
              "    <tr>\n",
              "      <th>5</th>\n",
              "      <td>عبد الرحمن محمد رمضان عبد العال الصياد</td>\n",
              "      <td>59.5</td>\n",
              "    </tr>\n",
              "    <tr>\n",
              "      <th>6</th>\n",
              "      <td>عبد الرحمن محمد عبد الفتاح عرفه خليل</td>\n",
              "      <td>59</td>\n",
              "    </tr>\n",
              "    <tr>\n",
              "      <th>7</th>\n",
              "      <td>زياد محمد محمد عبد الوهاب محمود</td>\n",
              "      <td>59</td>\n",
              "    </tr>\n",
              "    <tr>\n",
              "      <th>8</th>\n",
              "      <td>عمر أيمن محمد عبده السيد الكسار</td>\n",
              "      <td>59</td>\n",
              "    </tr>\n",
              "    <tr>\n",
              "      <th>9</th>\n",
              "      <td>نوران محمد محمد السيد العباسى</td>\n",
              "      <td>59</td>\n",
              "    </tr>\n",
              "    <tr>\n",
              "      <th>10</th>\n",
              "      <td>هاجر عمرو خالد محمد خالد</td>\n",
              "      <td>58</td>\n",
              "    </tr>\n",
              "  </tbody>\n",
              "</table>\n",
              "</div>"
            ],
            "text/plain": [
              "                                     الأسم الفيزياء\n",
              "1                 زياد عادل حسين محمد حسين       60\n",
              "2             علي محمود التابعي محمود حمام       60\n",
              "3              علي محمود محمد محمود المرسي       60\n",
              "4             مريم محمد حسانين محمود السيد       60\n",
              "5   عبد الرحمن محمد رمضان عبد العال الصياد     59.5\n",
              "6     عبد الرحمن محمد عبد الفتاح عرفه خليل       59\n",
              "7          زياد محمد محمد عبد الوهاب محمود       59\n",
              "8          عمر أيمن محمد عبده السيد الكسار       59\n",
              "9            نوران محمد محمد السيد العباسى       59\n",
              "10                هاجر عمرو خالد محمد خالد       58"
            ]
          },
          "metadata": {},
          "output_type": "display_data"
        }
      ],
      "source": [
        "for column, result in top_10_results.items():\n",
        "    print(f\"\\nأعلى 10 طلاب في مادة {column}:\")\n",
        "    display(result)"
      ]
    },
    {
      "cell_type": "code",
      "execution_count": 673,
      "metadata": {},
      "outputs": [],
      "source": [
        "schools = [\n",
        "    'الشهيد احمد سامى الثانويه بنين',\n",
        "      'القناة الثانوية بنين',\n",
        "       '6 اكتوبر الثانوية', 'علم الدين الثانوية بنات',\n",
        "       'شهداء بورسعيد الثانوية المشتركة',\n",
        "       'المهندس على سليمان الثانوية بنين',\n",
        "       'الغرفة التجارية الثانوية للبنات',\n",
        "       'الفيروز الحديثه ( عربي ) ثانوي', 'الرساله الحديثة لغات ثانوى',\n",
        "       'بور سعيد الثانوية بنين العسكرية', 'بورسعيد الثانوية بنات',\n",
        "       'العصفورى الثانوية الخاصة عربي بنين',\n",
        "       'العصفورى الثانوية للمتفوقين المشتركه عربي'\n",
        "]           "
      ]
    },
    {
      "cell_type": "code",
      "execution_count": 685,
      "metadata": {},
      "outputs": [
        {
          "name": "stdout",
          "output_type": "stream",
          "text": [
            "الشهيد احمد سامى الثانويه بنين\n"
          ]
        },
        {
          "data": {
            "text/html": [
              "<div>\n",
              "<style scoped>\n",
              "    .dataframe tbody tr th:only-of-type {\n",
              "        vertical-align: middle;\n",
              "    }\n",
              "\n",
              "    .dataframe tbody tr th {\n",
              "        vertical-align: top;\n",
              "    }\n",
              "\n",
              "    .dataframe thead th {\n",
              "        text-align: right;\n",
              "    }\n",
              "</style>\n",
              "<table border=\"1\" class=\"dataframe\">\n",
              "  <thead>\n",
              "    <tr style=\"text-align: right;\">\n",
              "      <th></th>\n",
              "      <th>الأسم</th>\n",
              "      <th>مجموع_الدرجات</th>\n",
              "    </tr>\n",
              "  </thead>\n",
              "  <tbody>\n",
              "    <tr>\n",
              "      <th>1</th>\n",
              "      <td>اسلام سامى محمد احمد بدران</td>\n",
              "      <td>382</td>\n",
              "    </tr>\n",
              "    <tr>\n",
              "      <th>2</th>\n",
              "      <td>باسل محمد السيد سالم البحراوى</td>\n",
              "      <td>380</td>\n",
              "    </tr>\n",
              "    <tr>\n",
              "      <th>3</th>\n",
              "      <td>اياد مصطفى السيد مصطفى شلاطه</td>\n",
              "      <td>379.5</td>\n",
              "    </tr>\n",
              "    <tr>\n",
              "      <th>4</th>\n",
              "      <td>محمد العربى نبيل عبده على</td>\n",
              "      <td>373.5</td>\n",
              "    </tr>\n",
              "    <tr>\n",
              "      <th>5</th>\n",
              "      <td>محمد عصام محمد محمد البساطى</td>\n",
              "      <td>372</td>\n",
              "    </tr>\n",
              "    <tr>\n",
              "      <th>6</th>\n",
              "      <td>كريم عبده عطيه عبد الرحيم اسماعيل</td>\n",
              "      <td>372</td>\n",
              "    </tr>\n",
              "    <tr>\n",
              "      <th>7</th>\n",
              "      <td>زياد عادل حسين محمد حسين</td>\n",
              "      <td>372</td>\n",
              "    </tr>\n",
              "    <tr>\n",
              "      <th>8</th>\n",
              "      <td>احمد اشرف محمود عبد الحليم خليل</td>\n",
              "      <td>367.5</td>\n",
              "    </tr>\n",
              "    <tr>\n",
              "      <th>9</th>\n",
              "      <td>ادهم احمد على احمد سيد احمد</td>\n",
              "      <td>367</td>\n",
              "    </tr>\n",
              "    <tr>\n",
              "      <th>10</th>\n",
              "      <td>يوسف مجدى رمضان محمد حسن الشربينى</td>\n",
              "      <td>367</td>\n",
              "    </tr>\n",
              "  </tbody>\n",
              "</table>\n",
              "</div>"
            ],
            "text/plain": [
              "                                الأسم  مجموع_الدرجات\n",
              "1          اسلام سامى محمد احمد بدران            382\n",
              "2       باسل محمد السيد سالم البحراوى            380\n",
              "3        اياد مصطفى السيد مصطفى شلاطه          379.5\n",
              "4           محمد العربى نبيل عبده على          373.5\n",
              "5         محمد عصام محمد محمد البساطى            372\n",
              "6   كريم عبده عطيه عبد الرحيم اسماعيل            372\n",
              "7            زياد عادل حسين محمد حسين            372\n",
              "8     احمد اشرف محمود عبد الحليم خليل          367.5\n",
              "9         ادهم احمد على احمد سيد احمد            367\n",
              "10  يوسف مجدى رمضان محمد حسن الشربينى            367"
            ]
          },
          "metadata": {},
          "output_type": "display_data"
        },
        {
          "name": "stdout",
          "output_type": "stream",
          "text": [
            "القناة الثانوية بنين\n"
          ]
        },
        {
          "data": {
            "text/html": [
              "<div>\n",
              "<style scoped>\n",
              "    .dataframe tbody tr th:only-of-type {\n",
              "        vertical-align: middle;\n",
              "    }\n",
              "\n",
              "    .dataframe tbody tr th {\n",
              "        vertical-align: top;\n",
              "    }\n",
              "\n",
              "    .dataframe thead th {\n",
              "        text-align: right;\n",
              "    }\n",
              "</style>\n",
              "<table border=\"1\" class=\"dataframe\">\n",
              "  <thead>\n",
              "    <tr style=\"text-align: right;\">\n",
              "      <th></th>\n",
              "      <th>الأسم</th>\n",
              "      <th>مجموع_الدرجات</th>\n",
              "    </tr>\n",
              "  </thead>\n",
              "  <tbody>\n",
              "    <tr>\n",
              "      <th>1</th>\n",
              "      <td>محمد أحمد أحمد محمد حبيشى</td>\n",
              "      <td>387</td>\n",
              "    </tr>\n",
              "    <tr>\n",
              "      <th>2</th>\n",
              "      <td>علي محمد علي السيد الصولي</td>\n",
              "      <td>384</td>\n",
              "    </tr>\n",
              "    <tr>\n",
              "      <th>3</th>\n",
              "      <td>عبد الله الإمام مصطفى شطا فياض</td>\n",
              "      <td>372</td>\n",
              "    </tr>\n",
              "    <tr>\n",
              "      <th>4</th>\n",
              "      <td>يوسف السيد عبدالخالق ابراهيم بدر</td>\n",
              "      <td>366.5</td>\n",
              "    </tr>\n",
              "    <tr>\n",
              "      <th>5</th>\n",
              "      <td>محمد رفعت ابراهيم محمد مسعود</td>\n",
              "      <td>362</td>\n",
              "    </tr>\n",
              "    <tr>\n",
              "      <th>6</th>\n",
              "      <td>عمر الإمام مصطفى شطا فياض</td>\n",
              "      <td>361.5</td>\n",
              "    </tr>\n",
              "    <tr>\n",
              "      <th>7</th>\n",
              "      <td>محمد عنتر عوض محمد بدر حميد</td>\n",
              "      <td>359.5</td>\n",
              "    </tr>\n",
              "    <tr>\n",
              "      <th>8</th>\n",
              "      <td>علاء الدين حسنى محمود عوض الجلودى</td>\n",
              "      <td>353</td>\n",
              "    </tr>\n",
              "    <tr>\n",
              "      <th>9</th>\n",
              "      <td>محمد أشرف إبراهيم السيد خليل</td>\n",
              "      <td>350.5</td>\n",
              "    </tr>\n",
              "    <tr>\n",
              "      <th>10</th>\n",
              "      <td>مصطفى محمد حسن عبدالوهاب عبداللطيف</td>\n",
              "      <td>350.5</td>\n",
              "    </tr>\n",
              "  </tbody>\n",
              "</table>\n",
              "</div>"
            ],
            "text/plain": [
              "                                 الأسم  مجموع_الدرجات\n",
              "1            محمد أحمد أحمد محمد حبيشى            387\n",
              "2            علي محمد علي السيد الصولي            384\n",
              "3       عبد الله الإمام مصطفى شطا فياض            372\n",
              "4     يوسف السيد عبدالخالق ابراهيم بدر          366.5\n",
              "5         محمد رفعت ابراهيم محمد مسعود            362\n",
              "6            عمر الإمام مصطفى شطا فياض          361.5\n",
              "7          محمد عنتر عوض محمد بدر حميد          359.5\n",
              "8    علاء الدين حسنى محمود عوض الجلودى            353\n",
              "9         محمد أشرف إبراهيم السيد خليل          350.5\n",
              "10  مصطفى محمد حسن عبدالوهاب عبداللطيف          350.5"
            ]
          },
          "metadata": {},
          "output_type": "display_data"
        },
        {
          "name": "stdout",
          "output_type": "stream",
          "text": [
            "6 اكتوبر الثانوية\n"
          ]
        },
        {
          "data": {
            "text/html": [
              "<div>\n",
              "<style scoped>\n",
              "    .dataframe tbody tr th:only-of-type {\n",
              "        vertical-align: middle;\n",
              "    }\n",
              "\n",
              "    .dataframe tbody tr th {\n",
              "        vertical-align: top;\n",
              "    }\n",
              "\n",
              "    .dataframe thead th {\n",
              "        text-align: right;\n",
              "    }\n",
              "</style>\n",
              "<table border=\"1\" class=\"dataframe\">\n",
              "  <thead>\n",
              "    <tr style=\"text-align: right;\">\n",
              "      <th></th>\n",
              "      <th>الأسم</th>\n",
              "      <th>مجموع_الدرجات</th>\n",
              "    </tr>\n",
              "  </thead>\n",
              "  <tbody>\n",
              "    <tr>\n",
              "      <th>1</th>\n",
              "      <td>يمنى محمد محمود محمد الديوى</td>\n",
              "      <td>396.5</td>\n",
              "    </tr>\n",
              "    <tr>\n",
              "      <th>2</th>\n",
              "      <td>ملك محمد شعبان محمد الدالى</td>\n",
              "      <td>386</td>\n",
              "    </tr>\n",
              "    <tr>\n",
              "      <th>3</th>\n",
              "      <td>لجينا عاصم محمد عبد العزيز محمد علام</td>\n",
              "      <td>382.5</td>\n",
              "    </tr>\n",
              "    <tr>\n",
              "      <th>4</th>\n",
              "      <td>منة الله وائل احمد السعيد احمد</td>\n",
              "      <td>380.5</td>\n",
              "    </tr>\n",
              "    <tr>\n",
              "      <th>5</th>\n",
              "      <td>تسنيم مسعد صبحى حسن عبد الله</td>\n",
              "      <td>376</td>\n",
              "    </tr>\n",
              "    <tr>\n",
              "      <th>6</th>\n",
              "      <td>مريم محمد مرزوق السيد محمد</td>\n",
              "      <td>374.5</td>\n",
              "    </tr>\n",
              "    <tr>\n",
              "      <th>7</th>\n",
              "      <td>هاجر عمرو خالد محمد خالد</td>\n",
              "      <td>373</td>\n",
              "    </tr>\n",
              "    <tr>\n",
              "      <th>8</th>\n",
              "      <td>مى محمد حمدى زكى العموشى</td>\n",
              "      <td>369</td>\n",
              "    </tr>\n",
              "    <tr>\n",
              "      <th>9</th>\n",
              "      <td>سلمى طارق السيد محمد محمد البربرى</td>\n",
              "      <td>368.5</td>\n",
              "    </tr>\n",
              "    <tr>\n",
              "      <th>10</th>\n",
              "      <td>كنزى طارق احمد انور محمد حلاوه</td>\n",
              "      <td>366</td>\n",
              "    </tr>\n",
              "  </tbody>\n",
              "</table>\n",
              "</div>"
            ],
            "text/plain": [
              "                                   الأسم  مجموع_الدرجات\n",
              "1            يمنى محمد محمود محمد الديوى          396.5\n",
              "2             ملك محمد شعبان محمد الدالى            386\n",
              "3   لجينا عاصم محمد عبد العزيز محمد علام          382.5\n",
              "4         منة الله وائل احمد السعيد احمد          380.5\n",
              "5           تسنيم مسعد صبحى حسن عبد الله            376\n",
              "6             مريم محمد مرزوق السيد محمد          374.5\n",
              "7               هاجر عمرو خالد محمد خالد            373\n",
              "8               مى محمد حمدى زكى العموشى            369\n",
              "9      سلمى طارق السيد محمد محمد البربرى          368.5\n",
              "10        كنزى طارق احمد انور محمد حلاوه            366"
            ]
          },
          "metadata": {},
          "output_type": "display_data"
        },
        {
          "name": "stdout",
          "output_type": "stream",
          "text": [
            "علم الدين الثانوية بنات\n"
          ]
        },
        {
          "data": {
            "text/html": [
              "<div>\n",
              "<style scoped>\n",
              "    .dataframe tbody tr th:only-of-type {\n",
              "        vertical-align: middle;\n",
              "    }\n",
              "\n",
              "    .dataframe tbody tr th {\n",
              "        vertical-align: top;\n",
              "    }\n",
              "\n",
              "    .dataframe thead th {\n",
              "        text-align: right;\n",
              "    }\n",
              "</style>\n",
              "<table border=\"1\" class=\"dataframe\">\n",
              "  <thead>\n",
              "    <tr style=\"text-align: right;\">\n",
              "      <th></th>\n",
              "      <th>الأسم</th>\n",
              "      <th>مجموع_الدرجات</th>\n",
              "    </tr>\n",
              "  </thead>\n",
              "  <tbody>\n",
              "    <tr>\n",
              "      <th>1</th>\n",
              "      <td>ملك محمد محمود اسماعيل ابراهيم عباس</td>\n",
              "      <td>389</td>\n",
              "    </tr>\n",
              "    <tr>\n",
              "      <th>2</th>\n",
              "      <td>روان اسامه السيد ابراهيم حسن</td>\n",
              "      <td>388.5</td>\n",
              "    </tr>\n",
              "    <tr>\n",
              "      <th>3</th>\n",
              "      <td>ندى عمرو محمد صابر السيد شطا</td>\n",
              "      <td>382</td>\n",
              "    </tr>\n",
              "    <tr>\n",
              "      <th>4</th>\n",
              "      <td>سولافا محمد رجب محمد العشرى</td>\n",
              "      <td>380.5</td>\n",
              "    </tr>\n",
              "    <tr>\n",
              "      <th>5</th>\n",
              "      <td>ندى طه ابراهيم ابراهيم علي</td>\n",
              "      <td>377.5</td>\n",
              "    </tr>\n",
              "    <tr>\n",
              "      <th>6</th>\n",
              "      <td>جنى احمد عامر محمود عامر</td>\n",
              "      <td>374.5</td>\n",
              "    </tr>\n",
              "    <tr>\n",
              "      <th>7</th>\n",
              "      <td>مريم عمرو السيد شيحه محمد بلال</td>\n",
              "      <td>373.5</td>\n",
              "    </tr>\n",
              "    <tr>\n",
              "      <th>8</th>\n",
              "      <td>يسرا احمد مختار السيد سالم</td>\n",
              "      <td>372.5</td>\n",
              "    </tr>\n",
              "    <tr>\n",
              "      <th>9</th>\n",
              "      <td>سما مصطفى محمود محمود سعد</td>\n",
              "      <td>372.5</td>\n",
              "    </tr>\n",
              "    <tr>\n",
              "      <th>10</th>\n",
              "      <td>سلمى محمد يحيى محمد شتيوى</td>\n",
              "      <td>372</td>\n",
              "    </tr>\n",
              "  </tbody>\n",
              "</table>\n",
              "</div>"
            ],
            "text/plain": [
              "                                  الأسم  مجموع_الدرجات\n",
              "1   ملك محمد محمود اسماعيل ابراهيم عباس            389\n",
              "2          روان اسامه السيد ابراهيم حسن          388.5\n",
              "3          ندى عمرو محمد صابر السيد شطا            382\n",
              "4           سولافا محمد رجب محمد العشرى          380.5\n",
              "5            ندى طه ابراهيم ابراهيم علي          377.5\n",
              "6              جنى احمد عامر محمود عامر          374.5\n",
              "7        مريم عمرو السيد شيحه محمد بلال          373.5\n",
              "8            يسرا احمد مختار السيد سالم          372.5\n",
              "9             سما مصطفى محمود محمود سعد          372.5\n",
              "10            سلمى محمد يحيى محمد شتيوى            372"
            ]
          },
          "metadata": {},
          "output_type": "display_data"
        },
        {
          "name": "stdout",
          "output_type": "stream",
          "text": [
            "شهداء بورسعيد الثانوية المشتركة\n"
          ]
        },
        {
          "data": {
            "text/html": [
              "<div>\n",
              "<style scoped>\n",
              "    .dataframe tbody tr th:only-of-type {\n",
              "        vertical-align: middle;\n",
              "    }\n",
              "\n",
              "    .dataframe tbody tr th {\n",
              "        vertical-align: top;\n",
              "    }\n",
              "\n",
              "    .dataframe thead th {\n",
              "        text-align: right;\n",
              "    }\n",
              "</style>\n",
              "<table border=\"1\" class=\"dataframe\">\n",
              "  <thead>\n",
              "    <tr style=\"text-align: right;\">\n",
              "      <th></th>\n",
              "      <th>الأسم</th>\n",
              "      <th>مجموع_الدرجات</th>\n",
              "    </tr>\n",
              "  </thead>\n",
              "  <tbody>\n",
              "    <tr>\n",
              "      <th>1</th>\n",
              "      <td>محمد ابراهيم عبد المنعم احمد عبد الغنى</td>\n",
              "      <td>325</td>\n",
              "    </tr>\n",
              "    <tr>\n",
              "      <th>2</th>\n",
              "      <td>معاذ على خلف شاهر بدران</td>\n",
              "      <td>323.5</td>\n",
              "    </tr>\n",
              "    <tr>\n",
              "      <th>3</th>\n",
              "      <td>محمد وليد محمد محمد محمد قوطة</td>\n",
              "      <td>308.5</td>\n",
              "    </tr>\n",
              "    <tr>\n",
              "      <th>4</th>\n",
              "      <td>مصطفى محمد مصطفى السيد مصطفى</td>\n",
              "      <td>308</td>\n",
              "    </tr>\n",
              "    <tr>\n",
              "      <th>5</th>\n",
              "      <td>محمد حسن عبد اللطيف ابواليزيد خلاف</td>\n",
              "      <td>304</td>\n",
              "    </tr>\n",
              "    <tr>\n",
              "      <th>6</th>\n",
              "      <td>يوسف طارق محمد ابراهيم عبد العال الليلي</td>\n",
              "      <td>298.5</td>\n",
              "    </tr>\n",
              "    <tr>\n",
              "      <th>7</th>\n",
              "      <td>اسامة عربي زكريا عبد الخالق يوسف</td>\n",
              "      <td>292</td>\n",
              "    </tr>\n",
              "    <tr>\n",
              "      <th>8</th>\n",
              "      <td>صالح احمد على على صالح</td>\n",
              "      <td>289.5</td>\n",
              "    </tr>\n",
              "    <tr>\n",
              "      <th>9</th>\n",
              "      <td>ايمان رمضان ابراهيم الدسوقى رجب</td>\n",
              "      <td>281</td>\n",
              "    </tr>\n",
              "    <tr>\n",
              "      <th>10</th>\n",
              "      <td>مريم محمود عزت الدسوقى متولى</td>\n",
              "      <td>270.5</td>\n",
              "    </tr>\n",
              "  </tbody>\n",
              "</table>\n",
              "</div>"
            ],
            "text/plain": [
              "                                      الأسم  مجموع_الدرجات\n",
              "1    محمد ابراهيم عبد المنعم احمد عبد الغنى            325\n",
              "2                   معاذ على خلف شاهر بدران          323.5\n",
              "3             محمد وليد محمد محمد محمد قوطة          308.5\n",
              "4              مصطفى محمد مصطفى السيد مصطفى            308\n",
              "5        محمد حسن عبد اللطيف ابواليزيد خلاف            304\n",
              "6   يوسف طارق محمد ابراهيم عبد العال الليلي          298.5\n",
              "7          اسامة عربي زكريا عبد الخالق يوسف            292\n",
              "8                    صالح احمد على على صالح          289.5\n",
              "9           ايمان رمضان ابراهيم الدسوقى رجب            281\n",
              "10             مريم محمود عزت الدسوقى متولى          270.5"
            ]
          },
          "metadata": {},
          "output_type": "display_data"
        },
        {
          "name": "stdout",
          "output_type": "stream",
          "text": [
            "المهندس على سليمان الثانوية بنين\n"
          ]
        },
        {
          "data": {
            "text/html": [
              "<div>\n",
              "<style scoped>\n",
              "    .dataframe tbody tr th:only-of-type {\n",
              "        vertical-align: middle;\n",
              "    }\n",
              "\n",
              "    .dataframe tbody tr th {\n",
              "        vertical-align: top;\n",
              "    }\n",
              "\n",
              "    .dataframe thead th {\n",
              "        text-align: right;\n",
              "    }\n",
              "</style>\n",
              "<table border=\"1\" class=\"dataframe\">\n",
              "  <thead>\n",
              "    <tr style=\"text-align: right;\">\n",
              "      <th></th>\n",
              "      <th>الأسم</th>\n",
              "      <th>مجموع_الدرجات</th>\n",
              "    </tr>\n",
              "  </thead>\n",
              "  <tbody>\n",
              "    <tr>\n",
              "      <th>1</th>\n",
              "      <td>احمد محمد سعد عبدالسلام</td>\n",
              "      <td>382.5</td>\n",
              "    </tr>\n",
              "    <tr>\n",
              "      <th>2</th>\n",
              "      <td>إسلام محمد قويطه حماد قويطه</td>\n",
              "      <td>373.5</td>\n",
              "    </tr>\n",
              "    <tr>\n",
              "      <th>3</th>\n",
              "      <td>مازن رزق محمد محمد علي عمر</td>\n",
              "      <td>342.5</td>\n",
              "    </tr>\n",
              "    <tr>\n",
              "      <th>4</th>\n",
              "      <td>احمد علاء محمد محمد على عزام</td>\n",
              "      <td>337.5</td>\n",
              "    </tr>\n",
              "    <tr>\n",
              "      <th>5</th>\n",
              "      <td>أيمن انسى ابراهيم الدسوقى محمد المصرى</td>\n",
              "      <td>337.5</td>\n",
              "    </tr>\n",
              "    <tr>\n",
              "      <th>6</th>\n",
              "      <td>محمد ياسر حمدان حميده عثمان</td>\n",
              "      <td>337</td>\n",
              "    </tr>\n",
              "    <tr>\n",
              "      <th>7</th>\n",
              "      <td>السيد احمد السيد على جعر</td>\n",
              "      <td>335</td>\n",
              "    </tr>\n",
              "    <tr>\n",
              "      <th>8</th>\n",
              "      <td>محمد حسن محمد محمد ابو اسماعيل عليوه</td>\n",
              "      <td>332.5</td>\n",
              "    </tr>\n",
              "    <tr>\n",
              "      <th>9</th>\n",
              "      <td>محمد مجدى دياب عبدالحى دياب</td>\n",
              "      <td>331</td>\n",
              "    </tr>\n",
              "    <tr>\n",
              "      <th>10</th>\n",
              "      <td>محمد وائل محمود عزب يوسف</td>\n",
              "      <td>329.5</td>\n",
              "    </tr>\n",
              "  </tbody>\n",
              "</table>\n",
              "</div>"
            ],
            "text/plain": [
              "                                    الأسم  مجموع_الدرجات\n",
              "1                 احمد محمد سعد عبدالسلام          382.5\n",
              "2             إسلام محمد قويطه حماد قويطه          373.5\n",
              "3              مازن رزق محمد محمد علي عمر          342.5\n",
              "4            احمد علاء محمد محمد على عزام          337.5\n",
              "5   أيمن انسى ابراهيم الدسوقى محمد المصرى          337.5\n",
              "6             محمد ياسر حمدان حميده عثمان            337\n",
              "7                السيد احمد السيد على جعر            335\n",
              "8    محمد حسن محمد محمد ابو اسماعيل عليوه          332.5\n",
              "9             محمد مجدى دياب عبدالحى دياب            331\n",
              "10               محمد وائل محمود عزب يوسف          329.5"
            ]
          },
          "metadata": {},
          "output_type": "display_data"
        },
        {
          "name": "stdout",
          "output_type": "stream",
          "text": [
            "الغرفة التجارية الثانوية للبنات\n"
          ]
        },
        {
          "data": {
            "text/html": [
              "<div>\n",
              "<style scoped>\n",
              "    .dataframe tbody tr th:only-of-type {\n",
              "        vertical-align: middle;\n",
              "    }\n",
              "\n",
              "    .dataframe tbody tr th {\n",
              "        vertical-align: top;\n",
              "    }\n",
              "\n",
              "    .dataframe thead th {\n",
              "        text-align: right;\n",
              "    }\n",
              "</style>\n",
              "<table border=\"1\" class=\"dataframe\">\n",
              "  <thead>\n",
              "    <tr style=\"text-align: right;\">\n",
              "      <th></th>\n",
              "      <th>الأسم</th>\n",
              "      <th>مجموع_الدرجات</th>\n",
              "    </tr>\n",
              "  </thead>\n",
              "  <tbody>\n",
              "    <tr>\n",
              "      <th>1</th>\n",
              "      <td>فاطمه الزهراء حازم محمد محمد عبد الوهاب الباز</td>\n",
              "      <td>388</td>\n",
              "    </tr>\n",
              "    <tr>\n",
              "      <th>2</th>\n",
              "      <td>جهاد محمد احمد محمد خليفه</td>\n",
              "      <td>383.5</td>\n",
              "    </tr>\n",
              "    <tr>\n",
              "      <th>3</th>\n",
              "      <td>ايه محمد القطب محمد هلال</td>\n",
              "      <td>375</td>\n",
              "    </tr>\n",
              "    <tr>\n",
              "      <th>4</th>\n",
              "      <td>الاء ماجد مصطفى مصطفى السيد</td>\n",
              "      <td>371</td>\n",
              "    </tr>\n",
              "    <tr>\n",
              "      <th>5</th>\n",
              "      <td>اسماء اشرف السيد احمد حسين</td>\n",
              "      <td>370.5</td>\n",
              "    </tr>\n",
              "    <tr>\n",
              "      <th>6</th>\n",
              "      <td>الاء محمد محمد متولى عبد السلام</td>\n",
              "      <td>369.5</td>\n",
              "    </tr>\n",
              "    <tr>\n",
              "      <th>7</th>\n",
              "      <td>ايمان محمد عبد المعز محمد على</td>\n",
              "      <td>361</td>\n",
              "    </tr>\n",
              "    <tr>\n",
              "      <th>8</th>\n",
              "      <td>مريم احمد فتحي عبد الجليل صبيحي</td>\n",
              "      <td>360.5</td>\n",
              "    </tr>\n",
              "    <tr>\n",
              "      <th>9</th>\n",
              "      <td>امنيه خضر السيد على الخولى</td>\n",
              "      <td>357</td>\n",
              "    </tr>\n",
              "    <tr>\n",
              "      <th>10</th>\n",
              "      <td>اغادير محمد احمد احمد المليجى</td>\n",
              "      <td>353</td>\n",
              "    </tr>\n",
              "  </tbody>\n",
              "</table>\n",
              "</div>"
            ],
            "text/plain": [
              "                                            الأسم  مجموع_الدرجات\n",
              "1   فاطمه الزهراء حازم محمد محمد عبد الوهاب الباز            388\n",
              "2                       جهاد محمد احمد محمد خليفه          383.5\n",
              "3                        ايه محمد القطب محمد هلال            375\n",
              "4                     الاء ماجد مصطفى مصطفى السيد            371\n",
              "5                      اسماء اشرف السيد احمد حسين          370.5\n",
              "6                 الاء محمد محمد متولى عبد السلام          369.5\n",
              "7                   ايمان محمد عبد المعز محمد على            361\n",
              "8                 مريم احمد فتحي عبد الجليل صبيحي          360.5\n",
              "9                      امنيه خضر السيد على الخولى            357\n",
              "10                  اغادير محمد احمد احمد المليجى            353"
            ]
          },
          "metadata": {},
          "output_type": "display_data"
        },
        {
          "name": "stdout",
          "output_type": "stream",
          "text": [
            "الفيروز الحديثه ( عربي ) ثانوي\n"
          ]
        },
        {
          "data": {
            "text/html": [
              "<div>\n",
              "<style scoped>\n",
              "    .dataframe tbody tr th:only-of-type {\n",
              "        vertical-align: middle;\n",
              "    }\n",
              "\n",
              "    .dataframe tbody tr th {\n",
              "        vertical-align: top;\n",
              "    }\n",
              "\n",
              "    .dataframe thead th {\n",
              "        text-align: right;\n",
              "    }\n",
              "</style>\n",
              "<table border=\"1\" class=\"dataframe\">\n",
              "  <thead>\n",
              "    <tr style=\"text-align: right;\">\n",
              "      <th></th>\n",
              "      <th>الأسم</th>\n",
              "      <th>مجموع_الدرجات</th>\n",
              "    </tr>\n",
              "  </thead>\n",
              "  <tbody>\n",
              "    <tr>\n",
              "      <th>1</th>\n",
              "      <td>عبد الرحمن عاطف حسن مشالي</td>\n",
              "      <td>383</td>\n",
              "    </tr>\n",
              "    <tr>\n",
              "      <th>2</th>\n",
              "      <td>اديان غسان عبد المنعم على شومان</td>\n",
              "      <td>381.5</td>\n",
              "    </tr>\n",
              "    <tr>\n",
              "      <th>3</th>\n",
              "      <td>فارس السيد على اسماعيل خليل</td>\n",
              "      <td>380.5</td>\n",
              "    </tr>\n",
              "    <tr>\n",
              "      <th>4</th>\n",
              "      <td>زياد محمد محمد عبد الغنى بلاط</td>\n",
              "      <td>378.5</td>\n",
              "    </tr>\n",
              "    <tr>\n",
              "      <th>5</th>\n",
              "      <td>يوسف رمضان اسماعيل عبد الفتاح اسماعيل</td>\n",
              "      <td>378</td>\n",
              "    </tr>\n",
              "    <tr>\n",
              "      <th>6</th>\n",
              "      <td>توفيق أحمد توفيق علي احمد</td>\n",
              "      <td>377.5</td>\n",
              "    </tr>\n",
              "    <tr>\n",
              "      <th>7</th>\n",
              "      <td>مازن السيد فاروق السيد أحمد جاد الله</td>\n",
              "      <td>376</td>\n",
              "    </tr>\n",
              "    <tr>\n",
              "      <th>8</th>\n",
              "      <td>مازن احمد الرفاعي النبوي محمد نوفل</td>\n",
              "      <td>374.5</td>\n",
              "    </tr>\n",
              "    <tr>\n",
              "      <th>9</th>\n",
              "      <td>أسامه الحسيني مصطفى كامل الغراز</td>\n",
              "      <td>374.5</td>\n",
              "    </tr>\n",
              "    <tr>\n",
              "      <th>10</th>\n",
              "      <td>عمرو محمد محمد سعد محمد شعبان</td>\n",
              "      <td>374</td>\n",
              "    </tr>\n",
              "  </tbody>\n",
              "</table>\n",
              "</div>"
            ],
            "text/plain": [
              "                                    الأسم  مجموع_الدرجات\n",
              "1               عبد الرحمن عاطف حسن مشالي            383\n",
              "2         اديان غسان عبد المنعم على شومان          381.5\n",
              "3             فارس السيد على اسماعيل خليل          380.5\n",
              "4           زياد محمد محمد عبد الغنى بلاط          378.5\n",
              "5   يوسف رمضان اسماعيل عبد الفتاح اسماعيل            378\n",
              "6               توفيق أحمد توفيق علي احمد          377.5\n",
              "7    مازن السيد فاروق السيد أحمد جاد الله            376\n",
              "8      مازن احمد الرفاعي النبوي محمد نوفل          374.5\n",
              "9         أسامه الحسيني مصطفى كامل الغراز          374.5\n",
              "10          عمرو محمد محمد سعد محمد شعبان            374"
            ]
          },
          "metadata": {},
          "output_type": "display_data"
        },
        {
          "name": "stdout",
          "output_type": "stream",
          "text": [
            "الرساله الحديثة لغات ثانوى\n"
          ]
        },
        {
          "data": {
            "text/html": [
              "<div>\n",
              "<style scoped>\n",
              "    .dataframe tbody tr th:only-of-type {\n",
              "        vertical-align: middle;\n",
              "    }\n",
              "\n",
              "    .dataframe tbody tr th {\n",
              "        vertical-align: top;\n",
              "    }\n",
              "\n",
              "    .dataframe thead th {\n",
              "        text-align: right;\n",
              "    }\n",
              "</style>\n",
              "<table border=\"1\" class=\"dataframe\">\n",
              "  <thead>\n",
              "    <tr style=\"text-align: right;\">\n",
              "      <th></th>\n",
              "      <th>الأسم</th>\n",
              "      <th>مجموع_الدرجات</th>\n",
              "    </tr>\n",
              "  </thead>\n",
              "  <tbody>\n",
              "    <tr>\n",
              "      <th>1</th>\n",
              "      <td>سما محمد محمد فتوح محمد السيد</td>\n",
              "      <td>325</td>\n",
              "    </tr>\n",
              "    <tr>\n",
              "      <th>2</th>\n",
              "      <td>دارين أحمد السيد محمد عبد العال المصري</td>\n",
              "      <td>314.5</td>\n",
              "    </tr>\n",
              "    <tr>\n",
              "      <th>3</th>\n",
              "      <td>مريم جابر أحمد حسن محمد</td>\n",
              "      <td>314</td>\n",
              "    </tr>\n",
              "    <tr>\n",
              "      <th>4</th>\n",
              "      <td>يوسف محمد حسن رزق حسن علي</td>\n",
              "      <td>307</td>\n",
              "    </tr>\n",
              "    <tr>\n",
              "      <th>5</th>\n",
              "      <td>علي يسري أحمد حامد المغربي</td>\n",
              "      <td>306.5</td>\n",
              "    </tr>\n",
              "    <tr>\n",
              "      <th>6</th>\n",
              "      <td>جنى على محمد رجب الالفى</td>\n",
              "      <td>301.5</td>\n",
              "    </tr>\n",
              "    <tr>\n",
              "      <th>7</th>\n",
              "      <td>مؤمن يحى يحى محمد عويضة</td>\n",
              "      <td>296</td>\n",
              "    </tr>\n",
              "    <tr>\n",
              "      <th>8</th>\n",
              "      <td>شهد أحمد السيد كامل عبد الفتاح</td>\n",
              "      <td>291.5</td>\n",
              "    </tr>\n",
              "    <tr>\n",
              "      <th>9</th>\n",
              "      <td>فاطمة محمد محمد محمد جمعه</td>\n",
              "      <td>288.5</td>\n",
              "    </tr>\n",
              "    <tr>\n",
              "      <th>10</th>\n",
              "      <td>نور الهدى السيد أحمد محمد صالح</td>\n",
              "      <td>283</td>\n",
              "    </tr>\n",
              "  </tbody>\n",
              "</table>\n",
              "</div>"
            ],
            "text/plain": [
              "                                     الأسم  مجموع_الدرجات\n",
              "1            سما محمد محمد فتوح محمد السيد            325\n",
              "2   دارين أحمد السيد محمد عبد العال المصري          314.5\n",
              "3                  مريم جابر أحمد حسن محمد            314\n",
              "4                يوسف محمد حسن رزق حسن علي            307\n",
              "5               علي يسري أحمد حامد المغربي          306.5\n",
              "6                  جنى على محمد رجب الالفى          301.5\n",
              "7                  مؤمن يحى يحى محمد عويضة            296\n",
              "8           شهد أحمد السيد كامل عبد الفتاح          291.5\n",
              "9                فاطمة محمد محمد محمد جمعه          288.5\n",
              "10          نور الهدى السيد أحمد محمد صالح            283"
            ]
          },
          "metadata": {},
          "output_type": "display_data"
        },
        {
          "name": "stdout",
          "output_type": "stream",
          "text": [
            "بور سعيد الثانوية بنين العسكرية\n"
          ]
        },
        {
          "data": {
            "text/html": [
              "<div>\n",
              "<style scoped>\n",
              "    .dataframe tbody tr th:only-of-type {\n",
              "        vertical-align: middle;\n",
              "    }\n",
              "\n",
              "    .dataframe tbody tr th {\n",
              "        vertical-align: top;\n",
              "    }\n",
              "\n",
              "    .dataframe thead th {\n",
              "        text-align: right;\n",
              "    }\n",
              "</style>\n",
              "<table border=\"1\" class=\"dataframe\">\n",
              "  <thead>\n",
              "    <tr style=\"text-align: right;\">\n",
              "      <th></th>\n",
              "      <th>الأسم</th>\n",
              "      <th>مجموع_الدرجات</th>\n",
              "    </tr>\n",
              "  </thead>\n",
              "  <tbody>\n",
              "    <tr>\n",
              "      <th>1</th>\n",
              "      <td>زياد محمد محمد عبد الوهاب محمود</td>\n",
              "      <td>395.5</td>\n",
              "    </tr>\n",
              "    <tr>\n",
              "      <th>2</th>\n",
              "      <td>أمجد جابر جابر جابر حسن السخرى</td>\n",
              "      <td>393.5</td>\n",
              "    </tr>\n",
              "    <tr>\n",
              "      <th>3</th>\n",
              "      <td>سيف اشرف محمد عمار مهران</td>\n",
              "      <td>392.5</td>\n",
              "    </tr>\n",
              "    <tr>\n",
              "      <th>4</th>\n",
              "      <td>عمار عطيه صلاح عطيه عطيه الخولى</td>\n",
              "      <td>392</td>\n",
              "    </tr>\n",
              "    <tr>\n",
              "      <th>5</th>\n",
              "      <td>زياد ياسر ابراهيم السعيد محمد بركه</td>\n",
              "      <td>392</td>\n",
              "    </tr>\n",
              "    <tr>\n",
              "      <th>6</th>\n",
              "      <td>سيف مدحت سمير محمد علي خضير</td>\n",
              "      <td>391</td>\n",
              "    </tr>\n",
              "    <tr>\n",
              "      <th>7</th>\n",
              "      <td>ياسين محمود جلال محمود الجندى</td>\n",
              "      <td>391</td>\n",
              "    </tr>\n",
              "    <tr>\n",
              "      <th>8</th>\n",
              "      <td>يوسف محمد محمد عبد العزيز عبد الرحمن</td>\n",
              "      <td>390.5</td>\n",
              "    </tr>\n",
              "    <tr>\n",
              "      <th>9</th>\n",
              "      <td>محمد محمد بهجت ابراهيم النشار</td>\n",
              "      <td>390.5</td>\n",
              "    </tr>\n",
              "    <tr>\n",
              "      <th>10</th>\n",
              "      <td>محمد محمد حامد عبد الرحمن الشويخ</td>\n",
              "      <td>390.5</td>\n",
              "    </tr>\n",
              "  </tbody>\n",
              "</table>\n",
              "</div>"
            ],
            "text/plain": [
              "                                   الأسم  مجموع_الدرجات\n",
              "1        زياد محمد محمد عبد الوهاب محمود          395.5\n",
              "2         أمجد جابر جابر جابر حسن السخرى          393.5\n",
              "3               سيف اشرف محمد عمار مهران          392.5\n",
              "4        عمار عطيه صلاح عطيه عطيه الخولى            392\n",
              "5     زياد ياسر ابراهيم السعيد محمد بركه            392\n",
              "6            سيف مدحت سمير محمد علي خضير            391\n",
              "7          ياسين محمود جلال محمود الجندى            391\n",
              "8   يوسف محمد محمد عبد العزيز عبد الرحمن          390.5\n",
              "9          محمد محمد بهجت ابراهيم النشار          390.5\n",
              "10      محمد محمد حامد عبد الرحمن الشويخ          390.5"
            ]
          },
          "metadata": {},
          "output_type": "display_data"
        },
        {
          "name": "stdout",
          "output_type": "stream",
          "text": [
            "بورسعيد الثانوية بنات\n"
          ]
        },
        {
          "data": {
            "text/html": [
              "<div>\n",
              "<style scoped>\n",
              "    .dataframe tbody tr th:only-of-type {\n",
              "        vertical-align: middle;\n",
              "    }\n",
              "\n",
              "    .dataframe tbody tr th {\n",
              "        vertical-align: top;\n",
              "    }\n",
              "\n",
              "    .dataframe thead th {\n",
              "        text-align: right;\n",
              "    }\n",
              "</style>\n",
              "<table border=\"1\" class=\"dataframe\">\n",
              "  <thead>\n",
              "    <tr style=\"text-align: right;\">\n",
              "      <th></th>\n",
              "      <th>الأسم</th>\n",
              "      <th>مجموع_الدرجات</th>\n",
              "    </tr>\n",
              "  </thead>\n",
              "  <tbody>\n",
              "    <tr>\n",
              "      <th>1</th>\n",
              "      <td>مريم محمد السعيد عبد الحميد شقرف</td>\n",
              "      <td>394</td>\n",
              "    </tr>\n",
              "    <tr>\n",
              "      <th>2</th>\n",
              "      <td>مريم محمد ابراهيم محمود الرشيدي</td>\n",
              "      <td>391</td>\n",
              "    </tr>\n",
              "    <tr>\n",
              "      <th>3</th>\n",
              "      <td>رؤى محمد عبد الله ابو عاشور حمدالله</td>\n",
              "      <td>390.5</td>\n",
              "    </tr>\n",
              "    <tr>\n",
              "      <th>4</th>\n",
              "      <td>عائشة معتز محمد على بقشيش</td>\n",
              "      <td>390</td>\n",
              "    </tr>\n",
              "    <tr>\n",
              "      <th>5</th>\n",
              "      <td>نوران محمد محمد السيد العباسى</td>\n",
              "      <td>387</td>\n",
              "    </tr>\n",
              "    <tr>\n",
              "      <th>6</th>\n",
              "      <td>سماح سامح محمد محمد جوده</td>\n",
              "      <td>386.5</td>\n",
              "    </tr>\n",
              "    <tr>\n",
              "      <th>7</th>\n",
              "      <td>مريم محمد حسانين محمود السيد</td>\n",
              "      <td>386.5</td>\n",
              "    </tr>\n",
              "    <tr>\n",
              "      <th>8</th>\n",
              "      <td>ملك مروان محمد محمد العاطفى</td>\n",
              "      <td>383.5</td>\n",
              "    </tr>\n",
              "    <tr>\n",
              "      <th>9</th>\n",
              "      <td>شهد اسامه علي حنيدق محمد خليل</td>\n",
              "      <td>383</td>\n",
              "    </tr>\n",
              "    <tr>\n",
              "      <th>10</th>\n",
              "      <td>ساره أسامه السيد محمد علي</td>\n",
              "      <td>383</td>\n",
              "    </tr>\n",
              "  </tbody>\n",
              "</table>\n",
              "</div>"
            ],
            "text/plain": [
              "                                  الأسم  مجموع_الدرجات\n",
              "1      مريم محمد السعيد عبد الحميد شقرف            394\n",
              "2       مريم محمد ابراهيم محمود الرشيدي            391\n",
              "3   رؤى محمد عبد الله ابو عاشور حمدالله          390.5\n",
              "4             عائشة معتز محمد على بقشيش            390\n",
              "5         نوران محمد محمد السيد العباسى            387\n",
              "6              سماح سامح محمد محمد جوده          386.5\n",
              "7          مريم محمد حسانين محمود السيد          386.5\n",
              "8           ملك مروان محمد محمد العاطفى          383.5\n",
              "9         شهد اسامه علي حنيدق محمد خليل            383\n",
              "10            ساره أسامه السيد محمد علي            383"
            ]
          },
          "metadata": {},
          "output_type": "display_data"
        },
        {
          "name": "stdout",
          "output_type": "stream",
          "text": [
            "العصفورى الثانوية الخاصة عربي بنين\n"
          ]
        },
        {
          "data": {
            "text/html": [
              "<div>\n",
              "<style scoped>\n",
              "    .dataframe tbody tr th:only-of-type {\n",
              "        vertical-align: middle;\n",
              "    }\n",
              "\n",
              "    .dataframe tbody tr th {\n",
              "        vertical-align: top;\n",
              "    }\n",
              "\n",
              "    .dataframe thead th {\n",
              "        text-align: right;\n",
              "    }\n",
              "</style>\n",
              "<table border=\"1\" class=\"dataframe\">\n",
              "  <thead>\n",
              "    <tr style=\"text-align: right;\">\n",
              "      <th></th>\n",
              "      <th>الأسم</th>\n",
              "      <th>مجموع_الدرجات</th>\n",
              "    </tr>\n",
              "  </thead>\n",
              "  <tbody>\n",
              "    <tr>\n",
              "      <th>1</th>\n",
              "      <td>خالد محمد عبد العزيز احمد محمد</td>\n",
              "      <td>325.5</td>\n",
              "    </tr>\n",
              "    <tr>\n",
              "      <th>2</th>\n",
              "      <td>محمد احمد محمد محمد محمد الشناوى</td>\n",
              "      <td>320</td>\n",
              "    </tr>\n",
              "    <tr>\n",
              "      <th>3</th>\n",
              "      <td>مازن محمد فوزى حسانين ابو عوف</td>\n",
              "      <td>317</td>\n",
              "    </tr>\n",
              "    <tr>\n",
              "      <th>4</th>\n",
              "      <td>قدرى شيرين عبد الرحمن رحمو</td>\n",
              "      <td>308</td>\n",
              "    </tr>\n",
              "    <tr>\n",
              "      <th>5</th>\n",
              "      <td>محمد فوزي عبد الرحيم عبد الرحمن فرح</td>\n",
              "      <td>304.5</td>\n",
              "    </tr>\n",
              "    <tr>\n",
              "      <th>6</th>\n",
              "      <td>ياسين محمد على محمد جابر</td>\n",
              "      <td>302</td>\n",
              "    </tr>\n",
              "    <tr>\n",
              "      <th>7</th>\n",
              "      <td>محمد رءوف ابراهيم ابراهيم</td>\n",
              "      <td>298.5</td>\n",
              "    </tr>\n",
              "    <tr>\n",
              "      <th>8</th>\n",
              "      <td>أحمد السيد عيد محمود موسى</td>\n",
              "      <td>295.5</td>\n",
              "    </tr>\n",
              "    <tr>\n",
              "      <th>9</th>\n",
              "      <td>محمد ابراهيم فؤاد ابوزيد دسوقي</td>\n",
              "      <td>294</td>\n",
              "    </tr>\n",
              "    <tr>\n",
              "      <th>10</th>\n",
              "      <td>كيرلس مكرم مهنى قرياقس نيروز</td>\n",
              "      <td>292</td>\n",
              "    </tr>\n",
              "  </tbody>\n",
              "</table>\n",
              "</div>"
            ],
            "text/plain": [
              "                                  الأسم  مجموع_الدرجات\n",
              "1        خالد محمد عبد العزيز احمد محمد          325.5\n",
              "2      محمد احمد محمد محمد محمد الشناوى            320\n",
              "3         مازن محمد فوزى حسانين ابو عوف            317\n",
              "4            قدرى شيرين عبد الرحمن رحمو            308\n",
              "5   محمد فوزي عبد الرحيم عبد الرحمن فرح          304.5\n",
              "6              ياسين محمد على محمد جابر            302\n",
              "7             محمد رءوف ابراهيم ابراهيم          298.5\n",
              "8             أحمد السيد عيد محمود موسى          295.5\n",
              "9        محمد ابراهيم فؤاد ابوزيد دسوقي            294\n",
              "10         كيرلس مكرم مهنى قرياقس نيروز            292"
            ]
          },
          "metadata": {},
          "output_type": "display_data"
        },
        {
          "name": "stdout",
          "output_type": "stream",
          "text": [
            "العصفورى الثانوية للمتفوقين المشتركه عربي\n"
          ]
        },
        {
          "data": {
            "text/html": [
              "<div>\n",
              "<style scoped>\n",
              "    .dataframe tbody tr th:only-of-type {\n",
              "        vertical-align: middle;\n",
              "    }\n",
              "\n",
              "    .dataframe tbody tr th {\n",
              "        vertical-align: top;\n",
              "    }\n",
              "\n",
              "    .dataframe thead th {\n",
              "        text-align: right;\n",
              "    }\n",
              "</style>\n",
              "<table border=\"1\" class=\"dataframe\">\n",
              "  <thead>\n",
              "    <tr style=\"text-align: right;\">\n",
              "      <th></th>\n",
              "      <th>الأسم</th>\n",
              "      <th>مجموع_الدرجات</th>\n",
              "    </tr>\n",
              "  </thead>\n",
              "  <tbody>\n",
              "    <tr>\n",
              "      <th>1</th>\n",
              "      <td>فارس وليد على الفولى على</td>\n",
              "      <td>351.5</td>\n",
              "    </tr>\n",
              "    <tr>\n",
              "      <th>2</th>\n",
              "      <td>عمر وائل محمد سمير محمد الفار</td>\n",
              "      <td>351.5</td>\n",
              "    </tr>\n",
              "    <tr>\n",
              "      <th>3</th>\n",
              "      <td>محمد عمرو محمد محمد منصور</td>\n",
              "      <td>341.5</td>\n",
              "    </tr>\n",
              "    <tr>\n",
              "      <th>4</th>\n",
              "      <td>رقيه محمد احمد سليم احمد سليم</td>\n",
              "      <td>329.5</td>\n",
              "    </tr>\n",
              "    <tr>\n",
              "      <th>5</th>\n",
              "      <td>جنى تامر محمد حسنين العويلى</td>\n",
              "      <td>327.5</td>\n",
              "    </tr>\n",
              "    <tr>\n",
              "      <th>6</th>\n",
              "      <td>ساره محمد عثمان عثمان حرز</td>\n",
              "      <td>320</td>\n",
              "    </tr>\n",
              "    <tr>\n",
              "      <th>7</th>\n",
              "      <td>يوسف رمزى محمود احمد ابراهيم</td>\n",
              "      <td>319</td>\n",
              "    </tr>\n",
              "    <tr>\n",
              "      <th>8</th>\n",
              "      <td>جنه محمد سعد الدين عطيه</td>\n",
              "      <td>316</td>\n",
              "    </tr>\n",
              "    <tr>\n",
              "      <th>9</th>\n",
              "      <td>جنا محمد ابراهيم السيد الهنداوى</td>\n",
              "      <td>314.5</td>\n",
              "    </tr>\n",
              "    <tr>\n",
              "      <th>10</th>\n",
              "      <td>جنى هانى احمد محمد عمر</td>\n",
              "      <td>314</td>\n",
              "    </tr>\n",
              "  </tbody>\n",
              "</table>\n",
              "</div>"
            ],
            "text/plain": [
              "                              الأسم  مجموع_الدرجات\n",
              "1          فارس وليد على الفولى على          351.5\n",
              "2     عمر وائل محمد سمير محمد الفار          351.5\n",
              "3         محمد عمرو محمد محمد منصور          341.5\n",
              "4     رقيه محمد احمد سليم احمد سليم          329.5\n",
              "5       جنى تامر محمد حسنين العويلى          327.5\n",
              "6         ساره محمد عثمان عثمان حرز            320\n",
              "7      يوسف رمزى محمود احمد ابراهيم            319\n",
              "8           جنه محمد سعد الدين عطيه            316\n",
              "9   جنا محمد ابراهيم السيد الهنداوى          314.5\n",
              "10           جنى هانى احمد محمد عمر            314"
            ]
          },
          "metadata": {},
          "output_type": "display_data"
        }
      ],
      "source": [
        "schools = df['المدرسة'].unique()\n",
        "\n",
        "for school in schools:\n",
        "\n",
        "    school_data = df[df['المدرسة'] == school]\n",
        "    \n",
        "    top_students = school_data.sort_values(by='مجموع_الدرجات', ascending=False).head(10).reset_index(drop = True)\n",
        "    var3 = top_students \n",
        "    var3.index = var3.index + 1 \n",
        "    print(school)\n",
        "    display(top_students[['الأسم', 'مجموع_الدرجات']])"
      ]
    },
    {
      "cell_type": "code",
      "execution_count": null,
      "metadata": {
        "colab": {
          "base_uri": "https://localhost:8080/",
          "height": 209
        },
        "id": "NbyryhEFcB9X",
        "outputId": "f482bd86-8bc6-4b4f-bcd4-7c6eab8a06ee"
      },
      "outputs": [
        {
          "data": {
            "text/plain": [
              "الشعبة\n",
              "علمي علوم     1611\n",
              "أدبي           751\n",
              "علمي رياضة     520\n",
              "Name: count, dtype: int64"
            ]
          },
          "execution_count": 608,
          "metadata": {},
          "output_type": "execute_result"
        }
      ],
      "source": [
        "category_counts = df[\"الشعبة\"].value_counts()\n",
        "category_counts"
      ]
    },
    {
      "cell_type": "code",
      "execution_count": null,
      "metadata": {
        "colab": {
          "base_uri": "https://localhost:8080/",
          "height": 675
        },
        "id": "MNsUPCVfnxO5",
        "outputId": "b9c45ddf-5883-4dd7-a94c-9583c92fe739"
      },
      "outputs": [
        {
          "data": {
            "image/png": "[encoded data removed]",
            "text/plain": [
              "<Figure size 1000x600 with 1 Axes>"
            ]
          },
          "metadata": {},
          "output_type": "display_data"
        }
      ],
      "source": [
        "labels = [\n",
        "    get_display(arabic_reshaper.reshape(label)) for label in category_counts.index\n",
        "]\n",
        "title = get_display(arabic_reshaper.reshape(\"توزيع الطلاب حسب الشعبة\"))\n",
        "\n",
        "plt.figure(figsize=(10, 6))\n",
        "plt.pie(category_counts, explode=(0.1 , 0.1 , 0.1) , labels=labels,  autopct=\"%1.2f%%\", startangle=270 , shadow=True , \n",
        "        textprops={'fontsize': 14})\n",
        "\n",
        "plt.title(title  ,fontsize = 18)\n",
        "plt.axis(\"equal\")\n",
        "plt.show()"
      ]
    },
    {
      "cell_type": "code",
      "execution_count": null,
      "metadata": {
        "colab": {
          "base_uri": "https://localhost:8080/",
          "height": 143
        },
        "id": "ihM9FAl_oN0H",
        "outputId": "31cc0a68-d541-46a0-aef1-014aec430d96"
      },
      "outputs": [
        {
          "data": {
            "text/html": [
              "<div>\n",
              "<style scoped>\n",
              "    .dataframe tbody tr th:only-of-type {\n",
              "        vertical-align: middle;\n",
              "    }\n",
              "\n",
              "    .dataframe tbody tr th {\n",
              "        vertical-align: top;\n",
              "    }\n",
              "\n",
              "    .dataframe thead th {\n",
              "        text-align: right;\n",
              "    }\n",
              "</style>\n",
              "<table border=\"1\" class=\"dataframe\">\n",
              "  <thead>\n",
              "    <tr style=\"text-align: right;\">\n",
              "      <th></th>\n",
              "      <th>الشعبة</th>\n",
              "      <th>عدد الطلبة فوق %90</th>\n",
              "    </tr>\n",
              "  </thead>\n",
              "  <tbody>\n",
              "    <tr>\n",
              "      <th>0</th>\n",
              "      <td>علمي علوم</td>\n",
              "      <td>98</td>\n",
              "    </tr>\n",
              "    <tr>\n",
              "      <th>1</th>\n",
              "      <td>علمي رياضة</td>\n",
              "      <td>79</td>\n",
              "    </tr>\n",
              "    <tr>\n",
              "      <th>2</th>\n",
              "      <td>أدبي</td>\n",
              "      <td>7</td>\n",
              "    </tr>\n",
              "  </tbody>\n",
              "</table>\n",
              "</div>"
            ],
            "text/plain": [
              "       الشعبة  عدد الطلبة فوق %90\n",
              "0   علمي علوم                  98\n",
              "1  علمي رياضة                  79\n",
              "2        أدبي                   7"
            ]
          },
          "execution_count": 610,
          "metadata": {},
          "output_type": "execute_result"
        }
      ],
      "source": [
        "passed90_df = df[df[\"مجموع_الدرجات\"] > 369]\n",
        "section_counts = passed90_df[\"الشعبة\"].value_counts()\n",
        "number90_df = pd.DataFrame(\n",
        "    {\"الشعبة\": section_counts.index, \"عدد الطلبة فوق %90\": section_counts.values}\n",
        ")\n",
        "number90_df"
      ]
    },
    {
      "cell_type": "code",
      "execution_count": null,
      "metadata": {
        "colab": {
          "base_uri": "https://localhost:8080/",
          "height": 143
        },
        "id": "AvTYBDf2utR0",
        "outputId": "3e78d204-c429-47ae-e588-36281a6ea3ec"
      },
      "outputs": [
        {
          "data": {
            "text/html": [
              "<div>\n",
              "<style scoped>\n",
              "    .dataframe tbody tr th:only-of-type {\n",
              "        vertical-align: middle;\n",
              "    }\n",
              "\n",
              "    .dataframe tbody tr th {\n",
              "        vertical-align: top;\n",
              "    }\n",
              "\n",
              "    .dataframe thead th {\n",
              "        text-align: right;\n",
              "    }\n",
              "</style>\n",
              "<table border=\"1\" class=\"dataframe\">\n",
              "  <thead>\n",
              "    <tr style=\"text-align: right;\">\n",
              "      <th></th>\n",
              "      <th>الشعبة</th>\n",
              "      <th>%العدد بين 80%و90</th>\n",
              "    </tr>\n",
              "  </thead>\n",
              "  <tbody>\n",
              "    <tr>\n",
              "      <th>0</th>\n",
              "      <td>علمي علوم</td>\n",
              "      <td>580</td>\n",
              "    </tr>\n",
              "    <tr>\n",
              "      <th>1</th>\n",
              "      <td>أدبي</td>\n",
              "      <td>262</td>\n",
              "    </tr>\n",
              "    <tr>\n",
              "      <th>2</th>\n",
              "      <td>علمي رياضة</td>\n",
              "      <td>228</td>\n",
              "    </tr>\n",
              "  </tbody>\n",
              "</table>\n",
              "</div>"
            ],
            "text/plain": [
              "       الشعبة   %العدد بين 80%و90 \n",
              "0   علمي علوم                  580\n",
              "1        أدبي                  262\n",
              "2  علمي رياضة                  228"
            ]
          },
          "execution_count": 611,
          "metadata": {},
          "output_type": "execute_result"
        }
      ],
      "source": [
        "filtered_df = df[(df[\"مجموع_الدرجات\"] > 328) & (df[\"مجموع_الدرجات\"] <= 369)]\n",
        "section_counts = filtered_df[\"الشعبة\"].value_counts()\n",
        "number80_90_df = pd.DataFrame(\n",
        "    {\"الشعبة\": section_counts.index, \" %العدد بين 80%و90 \": section_counts.values}\n",
        ")\n",
        "number80_90_df"
      ]
    },
    {
      "cell_type": "code",
      "execution_count": null,
      "metadata": {
        "colab": {
          "base_uri": "https://localhost:8080/",
          "height": 143
        },
        "id": "HTfgNpnDv-Vb",
        "outputId": "5a9a4016-3733-41a5-8ba2-72a2f00d7818"
      },
      "outputs": [
        {
          "data": {
            "text/html": [
              "<div>\n",
              "<style scoped>\n",
              "    .dataframe tbody tr th:only-of-type {\n",
              "        vertical-align: middle;\n",
              "    }\n",
              "\n",
              "    .dataframe tbody tr th {\n",
              "        vertical-align: top;\n",
              "    }\n",
              "\n",
              "    .dataframe thead th {\n",
              "        text-align: right;\n",
              "    }\n",
              "</style>\n",
              "<table border=\"1\" class=\"dataframe\">\n",
              "  <thead>\n",
              "    <tr style=\"text-align: right;\">\n",
              "      <th></th>\n",
              "      <th>الشعبة</th>\n",
              "      <th>%العدد بين 70%و80</th>\n",
              "    </tr>\n",
              "  </thead>\n",
              "  <tbody>\n",
              "    <tr>\n",
              "      <th>0</th>\n",
              "      <td>علمي علوم</td>\n",
              "      <td>493</td>\n",
              "    </tr>\n",
              "    <tr>\n",
              "      <th>1</th>\n",
              "      <td>أدبي</td>\n",
              "      <td>329</td>\n",
              "    </tr>\n",
              "    <tr>\n",
              "      <th>2</th>\n",
              "      <td>علمي رياضة</td>\n",
              "      <td>125</td>\n",
              "    </tr>\n",
              "  </tbody>\n",
              "</table>\n",
              "</div>"
            ],
            "text/plain": [
              "       الشعبة   %العدد بين 70%و80 \n",
              "0   علمي علوم                  493\n",
              "1        أدبي                  329\n",
              "2  علمي رياضة                  125"
            ]
          },
          "execution_count": 612,
          "metadata": {},
          "output_type": "execute_result"
        }
      ],
      "source": [
        "filtered_df = df[(df[\"مجموع_الدرجات\"] > 287) & (df[\"مجموع_الدرجات\"] <= 328)]\n",
        "section_counts = filtered_df[\"الشعبة\"].value_counts()\n",
        "number70_80_df = pd.DataFrame(\n",
        "    {\"الشعبة\": section_counts.index, \" %العدد بين 70%و80 \": section_counts.values}\n",
        ")\n",
        "number70_80_df"
      ]
    },
    {
      "cell_type": "code",
      "execution_count": null,
      "metadata": {},
      "outputs": [
        {
          "data": {
            "text/html": [
              "<div>\n",
              "<style scoped>\n",
              "    .dataframe tbody tr th:only-of-type {\n",
              "        vertical-align: middle;\n",
              "    }\n",
              "\n",
              "    .dataframe tbody tr th {\n",
              "        vertical-align: top;\n",
              "    }\n",
              "\n",
              "    .dataframe thead th {\n",
              "        text-align: right;\n",
              "    }\n",
              "</style>\n",
              "<table border=\"1\" class=\"dataframe\">\n",
              "  <thead>\n",
              "    <tr style=\"text-align: right;\">\n",
              "      <th></th>\n",
              "      <th>الشعبة</th>\n",
              "      <th>%العدد بين 60%و70</th>\n",
              "    </tr>\n",
              "  </thead>\n",
              "  <tbody>\n",
              "    <tr>\n",
              "      <th>0</th>\n",
              "      <td>علمي علوم</td>\n",
              "      <td>325</td>\n",
              "    </tr>\n",
              "    <tr>\n",
              "      <th>1</th>\n",
              "      <td>أدبي</td>\n",
              "      <td>125</td>\n",
              "    </tr>\n",
              "    <tr>\n",
              "      <th>2</th>\n",
              "      <td>علمي رياضة</td>\n",
              "      <td>73</td>\n",
              "    </tr>\n",
              "  </tbody>\n",
              "</table>\n",
              "</div>"
            ],
            "text/plain": [
              "       الشعبة   %العدد بين 60%و70 \n",
              "0   علمي علوم                  325\n",
              "1        أدبي                  125\n",
              "2  علمي رياضة                   73"
            ]
          },
          "execution_count": 613,
          "metadata": {},
          "output_type": "execute_result"
        }
      ],
      "source": [
        "filtered_df = df[(df[\"مجموع_الدرجات\"] > 246) & (df[\"مجموع_الدرجات\"] <= 287)]\n",
        "section_counts = filtered_df[\"الشعبة\"].value_counts()\n",
        "number60_70_df = pd.DataFrame(\n",
        "    {\"الشعبة\": section_counts.index, \" %العدد بين 60%و70 \": section_counts.values}\n",
        ")\n",
        "number60_70_df"
      ]
    },
    {
      "cell_type": "code",
      "execution_count": null,
      "metadata": {},
      "outputs": [],
      "source": [
        "def fix_arabic_text(text):\n",
        "    reshaped_text = arabic_reshaper.reshape(text)\n",
        "    return get_display(reshaped_text)"
      ]
    },
    {
      "cell_type": "code",
      "execution_count": null,
      "metadata": {
        "colab": {
          "base_uri": "https://localhost:8080/",
          "height": 680
        },
        "id": "AtbDaPUFyWQV",
        "outputId": "5b73e0b2-7a16-4b47-bcba-6ac945228a2e"
      },
      "outputs": [
        {
          "data": {
            "image/png": "[encoded data removed]",
            "text/plain": [
              "<Figure size 1200x800 with 1 Axes>"
            ]
          },
          "metadata": {},
          "output_type": "display_data"
        }
      ],
      "source": [
        "df = pd.read_csv(\"Thanawya(2).csv\")\n",
        "total_score = 410\n",
        "\n",
        "df[\"نسبة_المجموع\"] = (df[\"مجموع_الدرجات \"] / total_score) * 100\n",
        "\n",
        "\n",
        "plt.figure(figsize=(12, 8))\n",
        "\n",
        "plt.hist(df[\"نسبة_المجموع\"], bins=range(0, 101, 10), edgecolor=\"black\")\n",
        "\n",
        "plt.xlabel(fix_arabic_text(\"نسبة المجموع (%)\"))\n",
        "plt.ylabel(fix_arabic_text(\"عدد الطلاب\"))\n",
        "plt.title(fix_arabic_text(\"توزيع نسب مجموع الدرجات عبر 10 أعمدة\") , fontsize = 16)\n",
        "plt.xticks(range(0, 101, 10))\n",
        "plt.show()"
      ]
    },
    {
      "cell_type": "code",
      "execution_count": null,
      "metadata": {
        "id": "HQpZdYYBFZCU"
      },
      "outputs": [
        {
          "data": {
            "text/html": [
              "<div>\n",
              "<style scoped>\n",
              "    .dataframe tbody tr th:only-of-type {\n",
              "        vertical-align: middle;\n",
              "    }\n",
              "\n",
              "    .dataframe tbody tr th {\n",
              "        vertical-align: top;\n",
              "    }\n",
              "\n",
              "    .dataframe thead th {\n",
              "        text-align: right;\n",
              "    }\n",
              "</style>\n",
              "<table border=\"1\" class=\"dataframe\">\n",
              "  <thead>\n",
              "    <tr style=\"text-align: right;\">\n",
              "      <th></th>\n",
              "      <th>رقم_الجلوس</th>\n",
              "      <th>الأسم</th>\n",
              "      <th>المدرسة</th>\n",
              "      <th>مجموع_الدرجات</th>\n",
              "    </tr>\n",
              "  </thead>\n",
              "  <tbody>\n",
              "    <tr>\n",
              "      <th>1</th>\n",
              "      <td>806276</td>\n",
              "      <td>يمنى محمد محمود محمد الديوى</td>\n",
              "      <td>6 اكتوبر الثانوية</td>\n",
              "      <td>396.5</td>\n",
              "    </tr>\n",
              "    <tr>\n",
              "      <th>2</th>\n",
              "      <td>807336</td>\n",
              "      <td>زياد محمد محمد عبد الوهاب محمود</td>\n",
              "      <td>بور سعيد الثانوية بنين العسكرية</td>\n",
              "      <td>395.5</td>\n",
              "    </tr>\n",
              "    <tr>\n",
              "      <th>3</th>\n",
              "      <td>808336</td>\n",
              "      <td>مريم محمد السعيد عبد الحميد شقرف</td>\n",
              "      <td>بورسعيد الثانوية بنات</td>\n",
              "      <td>394</td>\n",
              "    </tr>\n",
              "    <tr>\n",
              "      <th>4</th>\n",
              "      <td>807061</td>\n",
              "      <td>أمجد جابر جابر جابر حسن السخرى</td>\n",
              "      <td>بور سعيد الثانوية بنين العسكرية</td>\n",
              "      <td>393.5</td>\n",
              "    </tr>\n",
              "    <tr>\n",
              "      <th>5</th>\n",
              "      <td>807337</td>\n",
              "      <td>سيف اشرف محمد عمار مهران</td>\n",
              "      <td>بور سعيد الثانوية بنين العسكرية</td>\n",
              "      <td>392.5</td>\n",
              "    </tr>\n",
              "    <tr>\n",
              "      <th>6</th>\n",
              "      <td>807349</td>\n",
              "      <td>عمار عطيه صلاح عطيه عطيه الخولى</td>\n",
              "      <td>بور سعيد الثانوية بنين العسكرية</td>\n",
              "      <td>392</td>\n",
              "    </tr>\n",
              "    <tr>\n",
              "      <th>7</th>\n",
              "      <td>807448</td>\n",
              "      <td>زياد ياسر ابراهيم السعيد محمد بركه</td>\n",
              "      <td>بور سعيد الثانوية بنين العسكرية</td>\n",
              "      <td>392</td>\n",
              "    </tr>\n",
              "    <tr>\n",
              "      <th>8</th>\n",
              "      <td>808335</td>\n",
              "      <td>مريم محمد ابراهيم محمود الرشيدي</td>\n",
              "      <td>بورسعيد الثانوية بنات</td>\n",
              "      <td>391</td>\n",
              "    </tr>\n",
              "    <tr>\n",
              "      <th>9</th>\n",
              "      <td>807541</td>\n",
              "      <td>ياسين محمود جلال محمود الجندى</td>\n",
              "      <td>بور سعيد الثانوية بنين العسكرية</td>\n",
              "      <td>391</td>\n",
              "    </tr>\n",
              "    <tr>\n",
              "      <th>10</th>\n",
              "      <td>807338</td>\n",
              "      <td>سيف مدحت سمير محمد علي خضير</td>\n",
              "      <td>بور سعيد الثانوية بنين العسكرية</td>\n",
              "      <td>391</td>\n",
              "    </tr>\n",
              "  </tbody>\n",
              "</table>\n",
              "</div>"
            ],
            "text/plain": [
              "    رقم_الجلوس                               الأسم  \\\n",
              "1       806276         يمنى محمد محمود محمد الديوى   \n",
              "2       807336     زياد محمد محمد عبد الوهاب محمود   \n",
              "3       808336    مريم محمد السعيد عبد الحميد شقرف   \n",
              "4       807061      أمجد جابر جابر جابر حسن السخرى   \n",
              "5       807337            سيف اشرف محمد عمار مهران   \n",
              "6       807349     عمار عطيه صلاح عطيه عطيه الخولى   \n",
              "7       807448  زياد ياسر ابراهيم السعيد محمد بركه   \n",
              "8       808335     مريم محمد ابراهيم محمود الرشيدي   \n",
              "9       807541       ياسين محمود جلال محمود الجندى   \n",
              "10      807338         سيف مدحت سمير محمد علي خضير   \n",
              "\n",
              "                           المدرسة   مجموع_الدرجات   \n",
              "1                 6 اكتوبر الثانوية           396.5  \n",
              "2   بور سعيد الثانوية بنين العسكرية           395.5  \n",
              "3             بورسعيد الثانوية بنات             394  \n",
              "4   بور سعيد الثانوية بنين العسكرية           393.5  \n",
              "5   بور سعيد الثانوية بنين العسكرية           392.5  \n",
              "6   بور سعيد الثانوية بنين العسكرية             392  \n",
              "7   بور سعيد الثانوية بنين العسكرية             392  \n",
              "8             بورسعيد الثانوية بنات             391  \n",
              "9   بور سعيد الثانوية بنين العسكرية             391  \n",
              "10  بور سعيد الثانوية بنين العسكرية             391  "
            ]
          },
          "execution_count": 616,
          "metadata": {},
          "output_type": "execute_result"
        }
      ],
      "source": [
        "df_sorted = df.sort_values(by='مجموع_الدرجات ', ascending=False)\n",
        "top_students = df_sorted.head(10)\n",
        "var1 = top_students[['رقم_الجلوس', 'الأسم', 'المدرسة ','مجموع_الدرجات ']].reset_index(drop= True)\n",
        "var1.index = var1.index +1\n",
        "var1 "
      ]
    },
    {
      "cell_type": "code",
      "execution_count": null,
      "metadata": {},
      "outputs": [],
      "source": [
        "df.columns = df.columns.str.strip()"
      ]
    },
    {
      "cell_type": "code",
      "execution_count": null,
      "metadata": {
        "colab": {
          "base_uri": "https://localhost:8080/",
          "height": 457
        },
        "id": "GlXr18O8FcQD",
        "outputId": "50e34cc3-0cf2-4672-a71c-44685dfa4b15"
      },
      "outputs": [
        {
          "data": {
            "text/html": [
              "<div>\n",
              "<style scoped>\n",
              "    .dataframe tbody tr th:only-of-type {\n",
              "        vertical-align: middle;\n",
              "    }\n",
              "\n",
              "    .dataframe tbody tr th {\n",
              "        vertical-align: top;\n",
              "    }\n",
              "\n",
              "    .dataframe thead th {\n",
              "        text-align: right;\n",
              "    }\n",
              "</style>\n",
              "<table border=\"1\" class=\"dataframe\">\n",
              "  <thead>\n",
              "    <tr style=\"text-align: right;\">\n",
              "      <th></th>\n",
              "      <th>المادة</th>\n",
              "      <th>عدد الراسبين</th>\n",
              "    </tr>\n",
              "  </thead>\n",
              "  <tbody>\n",
              "    <tr>\n",
              "      <th>0</th>\n",
              "      <td>اللغة_العربية</td>\n",
              "      <td>7</td>\n",
              "    </tr>\n",
              "    <tr>\n",
              "      <th>1</th>\n",
              "      <td>اللغة_الأجنبية_الأولى</td>\n",
              "      <td>8</td>\n",
              "    </tr>\n",
              "    <tr>\n",
              "      <th>2</th>\n",
              "      <td>اللغة_الأجنبية_الثانية</td>\n",
              "      <td>3</td>\n",
              "    </tr>\n",
              "    <tr>\n",
              "      <th>3</th>\n",
              "      <td>الرياضيات_البحتة</td>\n",
              "      <td>5</td>\n",
              "    </tr>\n",
              "    <tr>\n",
              "      <th>4</th>\n",
              "      <td>الرياضيات_التطبيقية</td>\n",
              "      <td>7</td>\n",
              "    </tr>\n",
              "    <tr>\n",
              "      <th>5</th>\n",
              "      <td>التاريخ</td>\n",
              "      <td>0</td>\n",
              "    </tr>\n",
              "    <tr>\n",
              "      <th>6</th>\n",
              "      <td>الجغرافيا</td>\n",
              "      <td>4</td>\n",
              "    </tr>\n",
              "    <tr>\n",
              "      <th>7</th>\n",
              "      <td>الفلسفة_والمنطق</td>\n",
              "      <td>1</td>\n",
              "    </tr>\n",
              "    <tr>\n",
              "      <th>8</th>\n",
              "      <td>علم_النفس_والاجتماع</td>\n",
              "      <td>2</td>\n",
              "    </tr>\n",
              "    <tr>\n",
              "      <th>9</th>\n",
              "      <td>الكيمياء</td>\n",
              "      <td>13</td>\n",
              "    </tr>\n",
              "    <tr>\n",
              "      <th>10</th>\n",
              "      <td>الأحياء</td>\n",
              "      <td>17</td>\n",
              "    </tr>\n",
              "    <tr>\n",
              "      <th>11</th>\n",
              "      <td>الجيولوجيا_وعلوم_البيئة</td>\n",
              "      <td>12</td>\n",
              "    </tr>\n",
              "    <tr>\n",
              "      <th>12</th>\n",
              "      <td>الفيزياء</td>\n",
              "      <td>10</td>\n",
              "    </tr>\n",
              "  </tbody>\n",
              "</table>\n",
              "</div>"
            ],
            "text/plain": [
              "                     المادة  عدد الراسبين\n",
              "0             اللغة_العربية             7\n",
              "1     اللغة_الأجنبية_الأولى             8\n",
              "2    اللغة_الأجنبية_الثانية             3\n",
              "3          الرياضيات_البحتة             5\n",
              "4       الرياضيات_التطبيقية             7\n",
              "5                   التاريخ             0\n",
              "6                 الجغرافيا             4\n",
              "7           الفلسفة_والمنطق             1\n",
              "8       علم_النفس_والاجتماع             2\n",
              "9                  الكيمياء            13\n",
              "10                  الأحياء            17\n",
              "11  الجيولوجيا_وعلوم_البيئة            12\n",
              "12                 الفيزياء            10"
            ]
          },
          "execution_count": 618,
          "metadata": {},
          "output_type": "execute_result"
        }
      ],
      "source": [
        "# import pandas as pd\n",
        "\n",
        "# df = pd.read_csv(\"Thanawya(2).csv\")\n",
        "\n",
        "# df.columns = df.columns.str.strip()\n",
        "df = df.apply(pd.to_numeric, errors=\"coerce\")\n",
        "\n",
        "failure_conditions = {\n",
        "    \"اللغة_العربية\": 40,\n",
        "    \"اللغة_الأجنبية_الأولى\": 25,\n",
        "    \"اللغة_الأجنبية_الثانية\": 20,\n",
        "    \"الرياضيات_البحتة\": 30,\n",
        "    \"الرياضيات_التطبيقية\": 30,\n",
        "    \"التاريخ\": 30,\n",
        "    \"الجغرافيا\": 30,\n",
        "    \"الفلسفة_والمنطق\": 30,\n",
        "    \"علم_النفس_والاجتماع\": 30,\n",
        "    \"الكيمياء\": 30,\n",
        "    \"الأحياء\": 30,\n",
        "    \"الجيولوجيا_وعلوم_البيئة\": 30,\n",
        "    \"الفيزياء\": 30,\n",
        "}\n",
        "\n",
        "\n",
        "failures = {}\n",
        "for subject, threshold in failure_conditions.items():\n",
        "    failures[subject] = (df[subject] < threshold).sum()\n",
        "\n",
        "failures_df = pd.DataFrame(list(failures.items()), columns=[\"المادة\", \"عدد الراسبين\"])\n",
        "failures_df"
      ]
    },
    {
      "cell_type": "code",
      "execution_count": null,
      "metadata": {
        "colab": {
          "base_uri": "https://localhost:8080/",
          "height": 363
        },
        "id": "aWoUO0JBFT-j",
        "outputId": "02dba194-e562-4101-b944-b5bc296e1011"
      },
      "outputs": [
        {
          "data": {
            "text/html": [
              "<div>\n",
              "<style scoped>\n",
              "    .dataframe tbody tr th:only-of-type {\n",
              "        vertical-align: middle;\n",
              "    }\n",
              "\n",
              "    .dataframe tbody tr th {\n",
              "        vertical-align: top;\n",
              "    }\n",
              "\n",
              "    .dataframe thead th {\n",
              "        text-align: right;\n",
              "    }\n",
              "</style>\n",
              "<table border=\"1\" class=\"dataframe\">\n",
              "  <thead>\n",
              "    <tr style=\"text-align: right;\">\n",
              "      <th></th>\n",
              "      <th>رقم_الجلوس</th>\n",
              "      <th>الأسم</th>\n",
              "      <th>مجموع_الدرجات</th>\n",
              "    </tr>\n",
              "  </thead>\n",
              "  <tbody>\n",
              "    <tr>\n",
              "      <th>1426</th>\n",
              "      <td>806980</td>\n",
              "      <td>احمد ايمن عزت عبدالسلام حسونه</td>\n",
              "      <td>374</td>\n",
              "    </tr>\n",
              "    <tr>\n",
              "      <th>1369</th>\n",
              "      <td>806923</td>\n",
              "      <td>عبد الرحمن احمد حسن نصر حسنين</td>\n",
              "      <td>373.5</td>\n",
              "    </tr>\n",
              "    <tr>\n",
              "      <th>1434</th>\n",
              "      <td>806988</td>\n",
              "      <td>باسم فوزى فتح الله ضيف معوض</td>\n",
              "      <td>373</td>\n",
              "    </tr>\n",
              "    <tr>\n",
              "      <th>775</th>\n",
              "      <td>806299</td>\n",
              "      <td>سما مصطفى محمود محمود سعد</td>\n",
              "      <td>372.5</td>\n",
              "    </tr>\n",
              "    <tr>\n",
              "      <th>1422</th>\n",
              "      <td>806976</td>\n",
              "      <td>يوسف محمد سامى حسن أحمد دياب</td>\n",
              "      <td>372.5</td>\n",
              "    </tr>\n",
              "    <tr>\n",
              "      <th>2091</th>\n",
              "      <td>807664</td>\n",
              "      <td>جنى محمود ابراهيم الحسينى محمد</td>\n",
              "      <td>370.5</td>\n",
              "    </tr>\n",
              "    <tr>\n",
              "      <th>2092</th>\n",
              "      <td>807665</td>\n",
              "      <td>جنى ممدوح حسين احمد العباسي</td>\n",
              "      <td>370.5</td>\n",
              "    </tr>\n",
              "    <tr>\n",
              "      <th>426</th>\n",
              "      <td>805937</td>\n",
              "      <td>مى محمد حمدى زكى العموشى</td>\n",
              "      <td>369</td>\n",
              "    </tr>\n",
              "    <tr>\n",
              "      <th>1368</th>\n",
              "      <td>806922</td>\n",
              "      <td>عبد الحميد احمد محمد عيد على طه</td>\n",
              "      <td>369</td>\n",
              "    </tr>\n",
              "    <tr>\n",
              "      <th>2221</th>\n",
              "      <td>807799</td>\n",
              "      <td>فرح احمد عبد الرحمن محمد بركات</td>\n",
              "      <td>369</td>\n",
              "    </tr>\n",
              "  </tbody>\n",
              "</table>\n",
              "</div>"
            ],
            "text/plain": [
              "      رقم_الجلوس                            الأسم  مجموع_الدرجات\n",
              "1426      806980    احمد ايمن عزت عبدالسلام حسونه            374\n",
              "1369      806923    عبد الرحمن احمد حسن نصر حسنين          373.5\n",
              "1434      806988      باسم فوزى فتح الله ضيف معوض            373\n",
              "775       806299        سما مصطفى محمود محمود سعد          372.5\n",
              "1422      806976     يوسف محمد سامى حسن أحمد دياب          372.5\n",
              "2091      807664   جنى محمود ابراهيم الحسينى محمد          370.5\n",
              "2092      807665      جنى ممدوح حسين احمد العباسي          370.5\n",
              "426       805937         مى محمد حمدى زكى العموشى            369\n",
              "1368      806922  عبد الحميد احمد محمد عيد على طه            369\n",
              "2221      807799   فرح احمد عبد الرحمن محمد بركات            369"
            ]
          },
          "execution_count": 619,
          "metadata": {},
          "output_type": "execute_result"
        }
      ],
      "source": [
        "# import pandas as pd\n",
        "\n",
        "# قراءة البيانات من ملف CSV\n",
        "df = pd.read_csv(\"Thanawya(2).csv\")\n",
        "\n",
        "# إزالة المسافات الزائدة من أسماء الأعمدة\n",
        "df.columns = df.columns.str.strip()\n",
        "\n",
        "\n",
        "df[\"مجموع_الدرجات\"] = pd.to_numeric(df[\"مجموع_الدرجات\"], errors=\"coerce\")\n",
        "\n",
        "adabi_students = df[df[\"الشعبة\"] == \"أدبي\"]\n",
        "\n",
        "top_10_adabi = adabi_students.nlargest(10, \"مجموع_الدرجات\")\n",
        "top_10_adabi['مجموع_الدرجات'] = top_10_adabi['مجموع_الدرجات']\n",
        "top_10_adabi[[\"رقم_الجلوس\", \"الأسم\", \"مجموع_الدرجات\"]]"
      ]
    },
    {
      "cell_type": "code",
      "execution_count": null,
      "metadata": {
        "colab": {
          "base_uri": "https://localhost:8080/",
          "height": 363
        },
        "id": "x9SD6WieGuRn",
        "outputId": "7fee7202-b6f2-4c7c-8587-b7c990bb9bf6"
      },
      "outputs": [
        {
          "data": {
            "text/html": [
              "<div>\n",
              "<style scoped>\n",
              "    .dataframe tbody tr th:only-of-type {\n",
              "        vertical-align: middle;\n",
              "    }\n",
              "\n",
              "    .dataframe tbody tr th {\n",
              "        vertical-align: top;\n",
              "    }\n",
              "\n",
              "    .dataframe thead th {\n",
              "        text-align: right;\n",
              "    }\n",
              "</style>\n",
              "<table border=\"1\" class=\"dataframe\">\n",
              "  <thead>\n",
              "    <tr style=\"text-align: right;\">\n",
              "      <th></th>\n",
              "      <th>رقم_الجلوس</th>\n",
              "      <th>الأسم</th>\n",
              "      <th>مجموع_الدرجات</th>\n",
              "    </tr>\n",
              "  </thead>\n",
              "  <tbody>\n",
              "    <tr>\n",
              "      <th>0</th>\n",
              "      <td>806276</td>\n",
              "      <td>يمنى محمد محمود محمد الديوى</td>\n",
              "      <td>396.5</td>\n",
              "    </tr>\n",
              "    <tr>\n",
              "      <th>1</th>\n",
              "      <td>808336</td>\n",
              "      <td>مريم محمد السعيد عبد الحميد شقرف</td>\n",
              "      <td>394</td>\n",
              "    </tr>\n",
              "    <tr>\n",
              "      <th>2</th>\n",
              "      <td>807448</td>\n",
              "      <td>زياد ياسر ابراهيم السعيد محمد بركه</td>\n",
              "      <td>392</td>\n",
              "    </tr>\n",
              "    <tr>\n",
              "      <th>3</th>\n",
              "      <td>807541</td>\n",
              "      <td>ياسين محمود جلال محمود الجندى</td>\n",
              "      <td>391</td>\n",
              "    </tr>\n",
              "    <tr>\n",
              "      <th>4</th>\n",
              "      <td>808335</td>\n",
              "      <td>مريم محمد ابراهيم محمود الرشيدي</td>\n",
              "      <td>391</td>\n",
              "    </tr>\n",
              "    <tr>\n",
              "      <th>5</th>\n",
              "      <td>807558</td>\n",
              "      <td>يوسف محمد محمد عبد العزيز عبد الرحمن</td>\n",
              "      <td>390.5</td>\n",
              "    </tr>\n",
              "    <tr>\n",
              "      <th>6</th>\n",
              "      <td>807606</td>\n",
              "      <td>محمد محمد بهجت ابراهيم النشار</td>\n",
              "      <td>390.5</td>\n",
              "    </tr>\n",
              "    <tr>\n",
              "      <th>7</th>\n",
              "      <td>807607</td>\n",
              "      <td>محمد محمد حامد عبد الرحمن الشويخ</td>\n",
              "      <td>390.5</td>\n",
              "    </tr>\n",
              "    <tr>\n",
              "      <th>8</th>\n",
              "      <td>808325</td>\n",
              "      <td>عائشة معتز محمد على بقشيش</td>\n",
              "      <td>390</td>\n",
              "    </tr>\n",
              "    <tr>\n",
              "      <th>9</th>\n",
              "      <td>807568</td>\n",
              "      <td>احمد محمد السيد ابراهيم الشبكى</td>\n",
              "      <td>388.5</td>\n",
              "    </tr>\n",
              "  </tbody>\n",
              "</table>\n",
              "</div>"
            ],
            "text/plain": [
              "   رقم_الجلوس                                 الأسم  مجموع_الدرجات\n",
              "0      806276           يمنى محمد محمود محمد الديوى          396.5\n",
              "1      808336      مريم محمد السعيد عبد الحميد شقرف            394\n",
              "2      807448    زياد ياسر ابراهيم السعيد محمد بركه            392\n",
              "3      807541         ياسين محمود جلال محمود الجندى            391\n",
              "4      808335       مريم محمد ابراهيم محمود الرشيدي            391\n",
              "5      807558  يوسف محمد محمد عبد العزيز عبد الرحمن          390.5\n",
              "6      807606         محمد محمد بهجت ابراهيم النشار          390.5\n",
              "7      807607      محمد محمد حامد عبد الرحمن الشويخ          390.5\n",
              "8      808325             عائشة معتز محمد على بقشيش            390\n",
              "9      807568        احمد محمد السيد ابراهيم الشبكى          388.5"
            ]
          },
          "execution_count": 620,
          "metadata": {},
          "output_type": "execute_result"
        }
      ],
      "source": [
        "df[\"مجموع_الدرجات\"] = pd.to_numeric(df[\"مجموع_الدرجات\"], errors=\"coerce\")\n",
        "ryada_students = df[df[\"الشعبة\"] == \"علمي رياضة\"]\n",
        "top_10_Ryada = ryada_students.nlargest(10, \"مجموع_الدرجات\")\n",
        "top_10_Ryada[[\"رقم_الجلوس\", \"الأسم\", \"مجموع_الدرجات\"]].reset_index(drop=True)"
      ]
    },
    {
      "cell_type": "code",
      "execution_count": null,
      "metadata": {
        "colab": {
          "base_uri": "https://localhost:8080/",
          "height": 363
        },
        "id": "MP3z3cirGymc",
        "outputId": "34361357-06fb-4239-b394-e24dfec0c1f0"
      },
      "outputs": [
        {
          "data": {
            "text/html": [
              "<div>\n",
              "<style scoped>\n",
              "    .dataframe tbody tr th:only-of-type {\n",
              "        vertical-align: middle;\n",
              "    }\n",
              "\n",
              "    .dataframe tbody tr th {\n",
              "        vertical-align: top;\n",
              "    }\n",
              "\n",
              "    .dataframe thead th {\n",
              "        text-align: right;\n",
              "    }\n",
              "</style>\n",
              "<table border=\"1\" class=\"dataframe\">\n",
              "  <thead>\n",
              "    <tr style=\"text-align: right;\">\n",
              "      <th></th>\n",
              "      <th>رقم_الجلوس</th>\n",
              "      <th>الأسم</th>\n",
              "      <th>مجموع_الدرجات</th>\n",
              "    </tr>\n",
              "  </thead>\n",
              "  <tbody>\n",
              "    <tr>\n",
              "      <th>0</th>\n",
              "      <td>807336</td>\n",
              "      <td>زياد محمد محمد عبد الوهاب محمود</td>\n",
              "      <td>395.5</td>\n",
              "    </tr>\n",
              "    <tr>\n",
              "      <th>1</th>\n",
              "      <td>807061</td>\n",
              "      <td>أمجد جابر جابر جابر حسن السخرى</td>\n",
              "      <td>393.5</td>\n",
              "    </tr>\n",
              "    <tr>\n",
              "      <th>2</th>\n",
              "      <td>807337</td>\n",
              "      <td>سيف اشرف محمد عمار مهران</td>\n",
              "      <td>392.5</td>\n",
              "    </tr>\n",
              "    <tr>\n",
              "      <th>3</th>\n",
              "      <td>807349</td>\n",
              "      <td>عمار عطيه صلاح عطيه عطيه الخولى</td>\n",
              "      <td>392</td>\n",
              "    </tr>\n",
              "    <tr>\n",
              "      <th>4</th>\n",
              "      <td>807338</td>\n",
              "      <td>سيف مدحت سمير محمد علي خضير</td>\n",
              "      <td>391</td>\n",
              "    </tr>\n",
              "    <tr>\n",
              "      <th>5</th>\n",
              "      <td>808160</td>\n",
              "      <td>رؤى محمد عبد الله ابو عاشور حمدالله</td>\n",
              "      <td>390.5</td>\n",
              "    </tr>\n",
              "    <tr>\n",
              "      <th>6</th>\n",
              "      <td>807111</td>\n",
              "      <td>عبد الرحمن السيد ابراهيم منصور ابراهيم</td>\n",
              "      <td>390</td>\n",
              "    </tr>\n",
              "    <tr>\n",
              "      <th>7</th>\n",
              "      <td>806400</td>\n",
              "      <td>ملك محمد محمود اسماعيل ابراهيم عباس</td>\n",
              "      <td>389</td>\n",
              "    </tr>\n",
              "    <tr>\n",
              "      <th>8</th>\n",
              "      <td>806438</td>\n",
              "      <td>روان اسامه السيد ابراهيم حسن</td>\n",
              "      <td>388.5</td>\n",
              "    </tr>\n",
              "    <tr>\n",
              "      <th>9</th>\n",
              "      <td>806727</td>\n",
              "      <td>فاطمه الزهراء حازم محمد محمد عبد الوهاب الباز</td>\n",
              "      <td>388</td>\n",
              "    </tr>\n",
              "  </tbody>\n",
              "</table>\n",
              "</div>"
            ],
            "text/plain": [
              "   رقم_الجلوس                                          الأسم  مجموع_الدرجات\n",
              "0      807336                زياد محمد محمد عبد الوهاب محمود          395.5\n",
              "1      807061                 أمجد جابر جابر جابر حسن السخرى          393.5\n",
              "2      807337                       سيف اشرف محمد عمار مهران          392.5\n",
              "3      807349                عمار عطيه صلاح عطيه عطيه الخولى            392\n",
              "4      807338                    سيف مدحت سمير محمد علي خضير            391\n",
              "5      808160            رؤى محمد عبد الله ابو عاشور حمدالله          390.5\n",
              "6      807111         عبد الرحمن السيد ابراهيم منصور ابراهيم            390\n",
              "7      806400            ملك محمد محمود اسماعيل ابراهيم عباس            389\n",
              "8      806438                   روان اسامه السيد ابراهيم حسن          388.5\n",
              "9      806727  فاطمه الزهراء حازم محمد محمد عبد الوهاب الباز            388"
            ]
          },
          "execution_count": 621,
          "metadata": {},
          "output_type": "execute_result"
        }
      ],
      "source": [
        "df[\"مجموع_الدرجات\"] = pd.to_numeric(df[\"مجموع_الدرجات\"], errors=\"coerce\")\n",
        "Oloom_students = df[df[\"الشعبة\"] == \"علمي علوم\"]\n",
        "top_10_Oloom = Oloom_students.nlargest(10, \"مجموع_الدرجات\")\n",
        "top_10_Oloom['مجموع_الدرجات'] = top_10_Oloom['مجموع_الدرجات']\n",
        "top_10_Oloom[[\"رقم_الجلوس\", \"الأسم\", \"مجموع_الدرجات\"]].reset_index(drop=True)"
      ]
    },
    {
      "cell_type": "code",
      "execution_count": null,
      "metadata": {},
      "outputs": [],
      "source": [
        "for col in Subjects:\n",
        "    df[col] = pd.to_numeric(df[col], errors=\"coerce\")"
      ]
    },
    {
      "cell_type": "code",
      "execution_count": null,
      "metadata": {},
      "outputs": [],
      "source": [
        "def fix_arabic_text(text):\n",
        "    reshaped_text = arabic_reshaper.reshape(text)\n",
        "    return get_display(reshaped_text)"
      ]
    },
    {
      "cell_type": "code",
      "execution_count": null,
      "metadata": {},
      "outputs": [
        {
          "data": {
            "image/png": "[encoded data removed]",
            "text/plain": [
              "<Figure size 800x600 with 1 Axes>"
            ]
          },
          "metadata": {},
          "output_type": "display_data"
        }
      ],
      "source": [
        "plt.figure(figsize=(8, 6))\n",
        "plt.hist(df[\"مجموع_الدرجات\"].dropna(), bins=20, color=\"skyblue\", edgecolor=\"black\")\n",
        "plt.title(fix_arabic_text(\"توزيع مجموع الدرجات\"), fontsize=18)\n",
        "plt.xlabel(fix_arabic_text(\"مجموع الدرجات\"), fontsize=13)\n",
        "plt.ylabel(fix_arabic_text(\"عدد الطلاب\"), fontsize=13)\n",
        "plt.grid(True)\n",
        "plt.xticks(rotation=45)\n",
        "plt.yticks(rotation=45)\n",
        "plt.show()"
      ]
    },
    {
      "cell_type": "code",
      "execution_count": null,
      "metadata": {},
      "outputs": [
        {
          "name": "stderr",
          "output_type": "stream",
          "text": [
            "C:\\Users\\besha\\AppData\\Local\\Temp\\ipykernel_3172\\1023439326.py:2: FutureWarning: \n",
            "\n",
            "Passing `palette` without assigning `hue` is deprecated and will be removed in v0.14.0. Assign the `x` variable to `hue` and set `legend=False` for the same effect.\n",
            "\n",
            "  sns.countplot(x='الشعبة', data=df, palette='viridis')\n"
          ]
        },
        {
          "data": {
            "image/png": "[encoded data removed]",
            "text/plain": [
              "<Figure size 800x500 with 1 Axes>"
            ]
          },
          "metadata": {},
          "output_type": "display_data"
        }
      ],
      "source": [
        "plt.figure(figsize=(8, 5))\n",
        "sns.countplot(x='الشعبة', data=df, palette='viridis')\n",
        "plt.title(fix_arabic_text('عدد الطلاب حسب الشعبة'), fontsize=16)\n",
        "plt.xlabel(fix_arabic_text('الشعبة'), fontsize=12)\n",
        "plt.ylabel(fix_arabic_text('عدد الطلاب'), fontsize=12)\n",
        "plt.xticks(ticks=range(len(df['الشعبة'].unique())), labels=[fix_arabic_text(txt) for txt in df['الشعبة'].unique()])\n",
        "plt.show()"
      ]
    },
    {
      "cell_type": "code",
      "execution_count": null,
      "metadata": {},
      "outputs": [
        {
          "name": "stderr",
          "output_type": "stream",
          "text": [
            "C:\\Users\\besha\\AppData\\Local\\Temp\\ipykernel_3172\\919373327.py:2: FutureWarning: \n",
            "\n",
            "Passing `palette` without assigning `hue` is deprecated and will be removed in v0.14.0. Assign the `x` variable to `hue` and set `legend=False` for the same effect.\n",
            "\n",
            "  sns.boxplot(x=\"الشعبة\", y=\"مجموع_الدرجات\", data=df, palette=\"coolwarm\")\n"
          ]
        },
        {
          "data": {
            "image/png": "[encoded data removed]",
            "text/plain": [
              "<Figure size 800x600 with 1 Axes>"
            ]
          },
          "metadata": {},
          "output_type": "display_data"
        }
      ],
      "source": [
        "plt.figure(figsize=(8, 6))\n",
        "sns.boxplot(x=\"الشعبة\", y=\"مجموع_الدرجات\", data=df, palette=\"coolwarm\")\n",
        "plt.title(fix_arabic_text(\"توزيع مجموع الدرجات حسب الشعبة\"), fontsize=16)\n",
        "plt.xlabel(fix_arabic_text(\"الشعبة\"), fontsize=12)\n",
        "plt.ylabel(fix_arabic_text(\"مجموع الدرجات\"), fontsize=12)\n",
        "plt.xticks(\n",
        "    ticks=range(len(df[\"الشعبة\"].unique())),\n",
        "    labels=[fix_arabic_text(txt) for txt in df[\"الشعبة\"].unique()],\n",
        ")\n",
        "plt.grid(True)\n",
        "plt.show()"
      ]
    },
    {
      "cell_type": "code",
      "execution_count": null,
      "metadata": {},
      "outputs": [
        {
          "name": "stderr",
          "output_type": "stream",
          "text": [
            "C:\\Users\\besha\\AppData\\Local\\Temp\\ipykernel_3172\\294140053.py:2: FutureWarning: \n",
            "\n",
            "Passing `palette` without assigning `hue` is deprecated and will be removed in v0.14.0. Assign the `x` variable to `hue` and set `legend=False` for the same effect.\n",
            "\n",
            "  sns.barplot(x=\"الشعبة\", y=\"اللغة_العربية\", data=df, palette=\"Blues\")\n"
          ]
        },
        {
          "data": {
            "image/png": "[encoded data removed]",
            "text/plain": [
              "<Figure size 800x500 with 1 Axes>"
            ]
          },
          "metadata": {},
          "output_type": "display_data"
        }
      ],
      "source": [
        "plt.figure(figsize=(8, 5))\n",
        "sns.barplot(x=\"الشعبة\", y=\"اللغة_العربية\", data=df, palette=\"Blues\")\n",
        "plt.title(fix_arabic_text(\"متوسط درجات اللغة العربية حسب الشعبة\"), fontsize=16)\n",
        "plt.xlabel(fix_arabic_text(\"الشعبة\"), fontsize=12)\n",
        "plt.ylabel(fix_arabic_text(\"متوسط الدرجات\"), fontsize=12)\n",
        "plt.xticks(\n",
        "    ticks=range(len(df[\"الشعبة\"].unique())),\n",
        "    labels=[fix_arabic_text(txt) for txt in df[\"الشعبة\"].unique()],\n",
        ")\n",
        "plt.xticks(rotation = 45)\n",
        "plt.yticks(rotation = 45)\n",
        "plt.show()"
      ]
    },
    {
      "cell_type": "code",
      "execution_count": null,
      "metadata": {},
      "outputs": [
        {
          "data": {
            "image/png": "[encoded data removed]",
            "text/plain": [
              "<Figure size 1000x800 with 2 Axes>"
            ]
          },
          "metadata": {},
          "output_type": "display_data"
        }
      ],
      "source": [
        "plt.figure(figsize=(10, 8))\n",
        "corr_matrix = df[Subjects].corr()\n",
        "sns.heatmap(\n",
        "    corr_matrix,\n",
        "    annot=True,\n",
        "    cmap=\"Blues\",\n",
        "    xticklabels=[fix_arabic_text(col) for col in corr_matrix.columns],\n",
        "    yticklabels=[fix_arabic_text(col) for col in corr_matrix.index],\n",
        ")\n",
        "plt.title(fix_arabic_text(\"مصفوفة الارتباط بين درجات المواد\"), fontsize=16)\n",
        "plt.show()"
      ]
    },
    {
      "cell_type": "code",
      "execution_count": null,
      "metadata": {},
      "outputs": [
        {
          "name": "stderr",
          "output_type": "stream",
          "text": [
            "C:\\Users\\besha\\AppData\\Local\\Temp\\ipykernel_3172\\2811876483.py:3: FutureWarning: \n",
            "\n",
            "Passing `palette` without assigning `hue` is deprecated and will be removed in v0.14.0. Assign the `y` variable to `hue` and set `legend=False` for the same effect.\n",
            "\n",
            "  sns.barplot(x=avg_scores.values, y=[fix_arabic_text(col) for col in avg_scores.index], palette='viridis')\n"
          ]
        },
        {
          "data": {
            "image/png": "[encoded data removed]",
            "text/plain": [
              "<Figure size 1000x500 with 1 Axes>"
            ]
          },
          "metadata": {},
          "output_type": "display_data"
        }
      ],
      "source": [
        "avg_scores = df[Subjects].mean().sort_values(ascending=False)\n",
        "plt.figure(figsize=(10, 5))\n",
        "sns.barplot(x=avg_scores.values, y=[fix_arabic_text(col) for col in avg_scores.index], palette='viridis')\n",
        "plt.title(fix_arabic_text('متوسط درجات المواد'), fontsize=16)\n",
        "plt.xlabel(fix_arabic_text('متوسط الدرجات'), fontsize=12)\n",
        "plt.ylabel(fix_arabic_text('المادة'), fontsize=12)\n",
        "plt.grid(True)\n",
        "plt.show()"
      ]
    },
    {
      "cell_type": "code",
      "execution_count": null,
      "metadata": {},
      "outputs": [
        {
          "data": {
            "image/png": "[encoded data removed]",
            "text/plain": [
              "<Figure size 800x600 with 1 Axes>"
            ]
          },
          "metadata": {},
          "output_type": "display_data"
        }
      ],
      "source": [
        "plt.figure(figsize=(8, 6))\n",
        "sns.histplot(df['الكيمياء'].dropna(), bins=15, kde=True, color='blue', label=fix_arabic_text('الكيمياء'))\n",
        "sns.histplot(df['الفيزياء'].dropna(), bins=15, kde=True, color='red', label=fix_arabic_text('الفيزياء'))\n",
        "plt.title(fix_arabic_text('توزيع درجات الكيمياء والفيزياء'), fontsize=16)\n",
        "plt.xlabel(fix_arabic_text('الدرجات'), fontsize=12)\n",
        "plt.ylabel(fix_arabic_text('عدد الطلاب'), fontsize=12)\n",
        "plt.legend()\n",
        "plt.grid(True)\n",
        "plt.show()"
      ]
    },
    {
      "cell_type": "code",
      "execution_count": null,
      "metadata": {},
      "outputs": [
        {
          "name": "stderr",
          "output_type": "stream",
          "text": [
            "C:\\Users\\besha\\AppData\\Local\\Temp\\ipykernel_3172\\3563109771.py:2: FutureWarning: \n",
            "\n",
            "Passing `palette` without assigning `hue` is deprecated and will be removed in v0.14.0. Assign the `x` variable to `hue` and set `legend=False` for the same effect.\n",
            "\n",
            "  sns.boxplot(x='الشعبة', y='اللغة_الأجنبية_الثانية', data=df, palette='Blues')\n"
          ]
        },
        {
          "data": {
            "image/png": "[encoded data removed]",
            "text/plain": [
              "<Figure size 800x600 with 1 Axes>"
            ]
          },
          "metadata": {},
          "output_type": "display_data"
        }
      ],
      "source": [
        "plt.figure(figsize=(8, 6))\n",
        "sns.boxplot(x='الشعبة', y='اللغة_الأجنبية_الثانية', data=df, palette='Blues')\n",
        "plt.title(fix_arabic_text('توزيع درجات اللغة الأجنبية الثانية حسب الشعبة'), fontsize=16)\n",
        "plt.xlabel(fix_arabic_text('الشعبة'), fontsize=12)\n",
        "plt.ylabel(fix_arabic_text('درجات اللغة الأجنبية الثانية'), fontsize=12)\n",
        "plt.xticks(ticks=range(len(df['الشعبة'].unique())), labels=[fix_arabic_text(txt) for txt in df['الشعبة'].unique()])\n",
        "plt.grid(True)\n",
        "plt.show()"
      ]
    },
    {
      "cell_type": "code",
      "execution_count": null,
      "metadata": {},
      "outputs": [
        {
          "data": {
            "image/png": "[encoded data removed]",
            "text/plain": [
              "<Figure size 1000x800 with 2 Axes>"
            ]
          },
          "metadata": {},
          "output_type": "display_data"
        }
      ],
      "source": [
        "plt.figure(figsize=(10, 8))\n",
        "علمي_رياضة_مواد = ['الرياضيات_البحتة', 'الرياضيات_التطبيقية', 'الفيزياء', 'الكيمياء']\n",
        "corr_matrix_علمي_رياضة = df[علمي_رياضة_مواد].corr()\n",
        "sns.heatmap(corr_matrix_علمي_رياضة, annot=True, cmap='coolwarm', xticklabels=[fix_arabic_text(col) for col in corr_matrix_علمي_رياضة.columns], \n",
        "            yticklabels=[fix_arabic_text(col) for col in corr_matrix_علمي_رياضة.index])\n",
        "plt.title(fix_arabic_text('مصفوفة الارتباط للمواد في شعبة علمي رياضة'), fontsize=16)\n",
        "plt.show()"
      ]
    },
    {
      "cell_type": "code",
      "execution_count": null,
      "metadata": {},
      "outputs": [
        {
          "data": {
            "image/png": "[encoded data removed]",
            "text/plain": [
              "<Figure size 1000x800 with 2 Axes>"
            ]
          },
          "metadata": {},
          "output_type": "display_data"
        }
      ],
      "source": [
        "plt.figure(figsize=(10, 8))\n",
        "علمي_علوم_مواد = ['الأحياء', 'الكيمياء', 'الفيزياء']\n",
        "corr_matrix_علمي_علوم = df[علمي_علوم_مواد].corr()\n",
        "sns.heatmap(corr_matrix_علمي_علوم, annot=True, cmap='coolwarm', xticklabels=[fix_arabic_text(col) for col in corr_matrix_علمي_علوم.columns], \n",
        "            yticklabels=[fix_arabic_text(col) for col in corr_matrix_علمي_علوم.index])\n",
        "plt.title(fix_arabic_text('مصفوفة الارتباط للمواد في شعبة علمي علوم'), fontsize=16)\n",
        "plt.show()"
      ]
    },
    {
      "cell_type": "code",
      "execution_count": null,
      "metadata": {},
      "outputs": [
        {
          "data": {
            "image/png": "[encoded data removed]",
            "text/plain": [
              "<Figure size 1000x800 with 2 Axes>"
            ]
          },
          "metadata": {},
          "output_type": "display_data"
        }
      ],
      "source": [
        "plt.figure(figsize=(10, 8))\n",
        "أدبي_مواد = ['التاريخ', 'الجغرافيا', 'الفلسفة_والمنطق', 'علم_النفس_والاجتماع']\n",
        "corr_matrix_أدبي = df[أدبي_مواد].corr()\n",
        "sns.heatmap(corr_matrix_أدبي, annot=True, cmap='coolwarm', xticklabels=[fix_arabic_text(col) for col in corr_matrix_أدبي.columns], \n",
        "            yticklabels=[fix_arabic_text(col) for col in corr_matrix_أدبي.index])\n",
        "plt.title(fix_arabic_text('مصفوفة الارتباط للمواد في شعبة أدبي'), fontsize=16)\n",
        "plt.show()"
      ]
    }
  ],
  "metadata": {
    "colab": {
      "provenance": [],
      "toc_visible": true
    },
    "kernelspec": {
      "display_name": "Python 3",
      "name": "python3"
    },
    "language_info": {
      "codemirror_mode": {
        "name": "ipython",
        "version": 3
      },
      "file_extension": ".py",
      "mimetype": "text/x-python",
      "name": "python",
      "nbconvert_exporter": "python",
      "pygments_lexer": "ipython3",
      "version": "3.12.0"
    }
  },
  "nbformat": 4,
  "nbformat_minor": 0
}
